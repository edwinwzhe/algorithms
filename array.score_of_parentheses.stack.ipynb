{
 "cells": [
  {
   "cell_type": "markdown",
   "metadata": {},
   "source": [
    "### Score of Parenthese\n",
    "\n",
    "Leetcode: https://leetcode.com/problems/score-of-parentheses/"
   ]
  },
  {
   "cell_type": "markdown",
   "metadata": {},
   "source": [
    "**Algorithm**  \n",
    "When it comes to parentheses - stack pop up immediately.   \n",
    "The algo is simple, push when seeing '(' and pop the stack until '(' when seeing ')'. Do the computation on poped items and then pushes back to the stack.   \n",
    "**Time** O(n) - only iterate through the list once.  \n",
    "**Space** O(n) - worse case the stack reaches n/2.    "
   ]
  },
  {
   "cell_type": "code",
   "execution_count": 2,
   "metadata": {},
   "outputs": [],
   "source": [
    "from functools import reduce\n",
    "\n",
    "class Solution:\n",
    "    def scoreOfParentheses(self, S):\n",
    "        \"\"\"\n",
    "        :type S: str\n",
    "        :rtype: int\n",
    "        \"\"\"\n",
    "        stack = []\n",
    "        \n",
    "        for paren in S:\n",
    "            if paren == '(':\n",
    "                stack.append(paren)\n",
    "                continue\n",
    "                \n",
    "            # paren == ')'\n",
    "            values_poped = []\n",
    "            top = stack.pop()\n",
    "            while top != '(':\n",
    "                values_poped.append(top)\n",
    "                top = stack.pop()\n",
    "                \n",
    "            if not values_poped:\n",
    "                stack.append(1)\n",
    "            elif len(values_poped) == 1:\n",
    "                stack.append(2 * values_poped[0])\n",
    "            else:\n",
    "                values_sum = reduce(lambda x, y: x+y, values_poped)\n",
    "                stack.append(2 * values_sum)\n",
    "                \n",
    "        return sum(stack)"
   ]
  },
  {
   "cell_type": "code",
   "execution_count": 3,
   "metadata": {},
   "outputs": [
    {
     "data": {
      "text/plain": [
       "2"
      ]
     },
     "execution_count": 3,
     "metadata": {},
     "output_type": "execute_result"
    }
   ],
   "source": [
    "parens = '()()'\n",
    "Solution().scoreOfParentheses(parens)"
   ]
  },
  {
   "cell_type": "code",
   "execution_count": 4,
   "metadata": {},
   "outputs": [
    {
     "data": {
      "text/plain": [
       "6"
      ]
     },
     "execution_count": 4,
     "metadata": {},
     "output_type": "execute_result"
    }
   ],
   "source": [
    "parens = '(()(()))'\n",
    "Solution().scoreOfParentheses(parens)"
   ]
  },
  {
   "cell_type": "code",
   "execution_count": null,
   "metadata": {},
   "outputs": [],
   "source": []
  }
 ],
 "metadata": {
  "kernelspec": {
   "display_name": "Python 3",
   "language": "python",
   "name": "python3"
  },
  "language_info": {
   "codemirror_mode": {
    "name": "ipython",
    "version": 3
   },
   "file_extension": ".py",
   "mimetype": "text/x-python",
   "name": "python",
   "nbconvert_exporter": "python",
   "pygments_lexer": "ipython3",
   "version": "3.6.5"
  }
 },
 "nbformat": 4,
 "nbformat_minor": 2
}
