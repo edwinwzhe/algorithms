{
 "cells": [
  {
   "cell_type": "markdown",
   "metadata": {},
   "source": [
    "### Find the largest product of 3 numbers in the list\n",
    "\n",
    "Leetcode: https://leetcode.com/problems/maximum-product-of-three-numbers/"
   ]
  },
  {
   "cell_type": "markdown",
   "metadata": {},
   "source": [
    "### Solution 2 - single scan\n"
   ]
  },
  {
   "cell_type": "code",
   "execution_count": null,
   "metadata": {},
   "outputs": [],
   "source": [
    "def maximumProduct(nums):\n",
    "    max_3 = []\n",
    "    min_2 = []\n",
    "    max_thres = None\n",
    "    min_thres = None\n",
    "    \n",
    "    for n in nums:\n",
    "        if max_thres is None or n > max_thres or len(max_3) < 3:\n",
    "            if len(max_3) < 3:\n",
    "                max_3.append(n)\n",
    "            else:\n",
    "                max_3[max_3.index(min(max_3))] = n\n",
    "                \n",
    "            max_thres = min(max_3)\n",
    "            \n",
    "        if min_thres is None or n < min_thres or len(min_2) < 2:\n",
    "            if len(min_2) < 2:\n",
    "                min_2.append(n)\n",
    "            else:\n",
    "                min_2[min_2.index(max(min_2))] = n\n",
    "            min_thres = max(min_2)\n",
    "    \n",
    "    print(min_2, max_3)\n",
    "    max_3.sort()  # O(1) since only 3 max elements\n",
    "    min_2_product = min_2[0] * min_2[1]\n",
    "    max_3_product = max_3[0] * max_3[1] * max_3[2]\n",
    "    \n",
    "    \n",
    "    return max(min_2_product * max_3[2], max_3_product)"
   ]
  },
  {
   "cell_type": "code",
   "execution_count": 14,
   "metadata": {},
   "outputs": [
    {
     "name": "stdout",
     "output_type": "stream",
     "text": [
      "[-5, -5] [3, -5, 1]\n",
      "[-3, -4] [-1, -2, -3]\n",
      "[-1, 2] [4, 2, 3]\n"
     ]
    }
   ],
   "source": [
    "assert maximumProduct([-5, -5, 1, 3]) == 75\n",
    "assert maximumProduct([-1, -2, -3, -4]) == -6\n",
    "assert maximumProduct([-1, 2, 3, 4]) == 24"
   ]
  },
  {
   "cell_type": "code",
   "execution_count": null,
   "metadata": {},
   "outputs": [],
   "source": []
  }
 ],
 "metadata": {
  "kernelspec": {
   "display_name": "Python 3",
   "language": "python",
   "name": "python3"
  },
  "language_info": {
   "codemirror_mode": {
    "name": "ipython",
    "version": 3
   },
   "file_extension": ".py",
   "mimetype": "text/x-python",
   "name": "python",
   "nbconvert_exporter": "python",
   "pygments_lexer": "ipython3",
   "version": "3.6.5"
  }
 },
 "nbformat": 4,
 "nbformat_minor": 2
}
