{
 "cells": [
  {
   "cell_type": "markdown",
   "metadata": {},
   "source": [
    "### Find the largest product of 3 numbers in the list\n",
    "\n",
    "Constrains:\n",
    "* Numbers can only be used once\n",
    "\n",
    "Leetcode: https://leetcode.com/problems/maximum-product-of-three-numbers/"
   ]
  },
  {
   "cell_type": "markdown",
   "metadata": {},
   "source": [
    "### Solution 1 - brute force\n",
    "\n",
    "#### Algorithm\n",
    "Brute force is the most obvious solutions, we just have to iterate all possible combinations of 3 numbers in the list - and record the max. \n",
    "  \n",
    "#### Time complexity\n",
    "O(n^3) ( ?? - if the time complexity to find the combinations is less)  \n",
    "Because combination(n, 3) is n!/(n-3)!/3! = n(n-1)(n-2)/6 ~= n^3\n",
    "      \n",
    "#### Space complexity\n",
    "O(1) - just storing the max_product value"
   ]
  },
  {
   "cell_type": "code",
   "execution_count": 6,
   "metadata": {},
   "outputs": [],
   "source": [
    "from functools import reduce\n",
    "from operator import mul\n",
    "from itertools import combinations\n",
    "\n",
    "def maximumProduct(nums):\n",
    "    max_product = None\n",
    "    \n",
    "    for nums_3 in combinations(nums, 3):\n",
    "        nums_3_product = reduce(mul, nums_3)\n",
    "        if max_product is None or nums_3_product > max_product:\n",
    "            max_product = nums_3_product\n",
    "            \n",
    "    return max_product"
   ]
  },
  {
   "cell_type": "code",
   "execution_count": 7,
   "metadata": {},
   "outputs": [],
   "source": [
    "assert maximumProduct([-5, -5, 1, 3]) == 75\n",
    "assert maximumProduct([-1, -2, -3, -4]) == -6\n",
    "assert maximumProduct([-1, 2, 3, 4]) == 24"
   ]
  },
  {
   "cell_type": "markdown",
   "metadata": {},
   "source": [
    "### Solution 2 - single scan\n",
    "\n",
    "#### Algorithm\n",
    "Have a think about where are all max products could be coming from:\n",
    "* case 1: all numbers are positive. Max product is the product of three largest numbers\n",
    "* case 2: only 2 positive numbers. Max product is \"product of two smallest(negative) numbers\" * the largest(positive) number.\n",
    "* case 3: only 1 positive numbers. Same as case 2 positive numbers. \n",
    "* case 4: all negative. Max product is the product of the three largest numbers which are all negative but cloest to zero. Same as case 1.\n",
    "\n",
    "In summary: \n",
    "All we need is to record 3 largest numbers and 2 smallest numbers. Then compute both case 1 and 2 and get the max value.\n",
    "  \n",
    "#### Time complexity\n",
    "O(N) - only one pass of n values in list\n",
    "  \n",
    "#### Space complexity\n",
    "O(1) - only storing 5 values (3 max + 2 min)"
   ]
  },
  {
   "cell_type": "code",
   "execution_count": 8,
   "metadata": {},
   "outputs": [],
   "source": [
    "def maximumProduct(nums):\n",
    "    max_3 = []\n",
    "    min_2 = []\n",
    "    max_thres = None\n",
    "    min_thres = None\n",
    "    \n",
    "    for n in nums:\n",
    "        if max_thres is None or n > max_thres or len(max_3) < 3:\n",
    "            if len(max_3) < 3:\n",
    "                max_3.append(n)\n",
    "            else:\n",
    "                max_3[max_3.index(min(max_3))] = n\n",
    "                \n",
    "            max_thres = min(max_3)\n",
    "            \n",
    "        if min_thres is None or n < min_thres or len(min_2) < 2:\n",
    "            if len(min_2) < 2:\n",
    "                min_2.append(n)\n",
    "            else:\n",
    "                min_2[min_2.index(max(min_2))] = n\n",
    "            min_thres = max(min_2)\n",
    "    \n",
    "    print(min_2, max_3)\n",
    "    max_3.sort()  # O(1) since only 3 max elements\n",
    "    min_2_product = min_2[0] * min_2[1]\n",
    "    max_3_product = max_3[0] * max_3[1] * max_3[2]\n",
    "    \n",
    "    \n",
    "    return max(min_2_product * max_3[2], max_3_product)"
   ]
  },
  {
   "cell_type": "code",
   "execution_count": 9,
   "metadata": {},
   "outputs": [
    {
     "name": "stdout",
     "output_type": "stream",
     "text": [
      "[-5, -5] [3, -5, 1]\n",
      "[-3, -4] [-1, -2, -3]\n",
      "[-1, 2] [4, 2, 3]\n"
     ]
    }
   ],
   "source": [
    "assert maximumProduct([-5, -5, 1, 3]) == 75\n",
    "assert maximumProduct([-1, -2, -3, -4]) == -6\n",
    "assert maximumProduct([-1, 2, 3, 4]) == 24"
   ]
  },
  {
   "cell_type": "code",
   "execution_count": null,
   "metadata": {},
   "outputs": [],
   "source": []
  }
 ],
 "metadata": {
  "kernelspec": {
   "display_name": "Python 3",
   "language": "python",
   "name": "python3"
  },
  "language_info": {
   "codemirror_mode": {
    "name": "ipython",
    "version": 3
   },
   "file_extension": ".py",
   "mimetype": "text/x-python",
   "name": "python",
   "nbconvert_exporter": "python",
   "pygments_lexer": "ipython3",
   "version": "3.6.5"
  }
 },
 "nbformat": 4,
 "nbformat_minor": 2
}
