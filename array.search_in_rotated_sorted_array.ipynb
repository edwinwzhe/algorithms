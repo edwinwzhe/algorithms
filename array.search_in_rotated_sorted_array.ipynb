{
 "cells": [
  {
   "cell_type": "markdown",
   "metadata": {},
   "source": [
    "### Search in Rotated Sorted Array\n",
    "\n",
    "Challenge is: binary search algo on a sorted array is O(logN), but the same \"time complexity\" is required for a sorted array rotated at some index. \n",
    "\n",
    "e.g. [1,2,3,4,5,6,7,8] rotated at 7(index 6) -> [7,8,1,2,3,4,5,6]\n",
    "\n",
    "\n",
    "LeetCode: https://leetcode.com/problems/search-in-rotated-sorted-array/"
   ]
  },
  {
   "cell_type": "markdown",
   "metadata": {},
   "source": [
    "#### First attempt\n",
    "\n",
    "Algorithm:\n",
    "The main idea is to try to locate the pivot point - then turn it into a simple binary search by either looking at the left of right of the pivot point (both subarray are sorted)\n",
    "\n",
    "- compare first elem with last elem\n",
    "    - if first < last: the array is not rotated, do normal binary search - O(logN)\n",
    "    - otherwise: \n",
    "        * do binary search looking for the pivot index - O(logN)\n",
    "        * the rotated array can then be broken into two sorted arrays - equivalent to the end of the first iteration of a normal binary search on a sorted array\n",
    "        * compare target with first elem to determin which 'sorted half' the normal binary search should perform\n",
    "        * perform binary search on the 'sorted half' - O(logN)\n",
    "\n",
    "The combined time complexity(worst): O(logN + logN) = O(logN)"
   ]
  },
  {
   "cell_type": "code",
   "execution_count": 2,
   "metadata": {},
   "outputs": [],
   "source": [
    "def search(nums, target):\n",
    "    \"\"\"\n",
    "    :type nums: List[int]\n",
    "    :type target: int\n",
    "    :rtype: int\n",
    "    \"\"\"\n",
    "    if not nums:\n",
    "        return -1\n",
    "    elif len(nums) == 1:\n",
    "        if nums[0] == target:\n",
    "            return 0\n",
    "        else:\n",
    "            return -1\n",
    "\n",
    "    if nums[0] > nums [-1]:\n",
    "        # Rotated\n",
    "\n",
    "        # Search pivot point:  O(logN)\n",
    "        left = 0 \n",
    "        right = len(nums) - 1\n",
    "\n",
    "        pivot = None\n",
    "\n",
    "        while left < right:\n",
    "            mid = (left + right) // 2\n",
    "            #print(left, mid, right)\n",
    "\n",
    "            if nums[mid-1] > nums[mid]:\n",
    "                #print('Found pivot', mid, nums[mid-1], nums[mid])\n",
    "                # found pivot\n",
    "                pivot = mid\n",
    "                break\n",
    "\n",
    "            if nums[mid] < nums[-1]:\n",
    "                # search left\n",
    "                right = mid - 1\n",
    "            else:\n",
    "                left = mid + 1  \n",
    "        else:\n",
    "            # pivot is the index of the left most elem before rotation\n",
    "            pivot = left\n",
    "        \n",
    "        # Set high/low for the target search\n",
    "        if target < nums[0]:\n",
    "            low = pivot\n",
    "            high = len(nums) - 1\n",
    "        else:\n",
    "            low = 0\n",
    "            high = pivot - 1\n",
    "\n",
    "    else:\n",
    "        # Not Rotated - set the pivot so the search code works.\n",
    "        low = 0\n",
    "        high = len(nums) - 1\n",
    "\n",
    "    #print('Pivot', pivot)\n",
    "\n",
    "    # Search if either left or right of the pivot point\n",
    "    while low < high:\n",
    "        mid = (low + high) // 2\n",
    "\n",
    "        if nums[mid] == target:\n",
    "            return mid\n",
    "        elif nums[mid] > target:\n",
    "            high = mid - 1\n",
    "        else:\n",
    "            low = mid + 1\n",
    "\n",
    "    if nums[low] == target:\n",
    "        return low\n",
    "\n",
    "    return -1"
   ]
  },
  {
   "cell_type": "code",
   "execution_count": 3,
   "metadata": {},
   "outputs": [
    {
     "name": "stdout",
     "output_type": "stream",
     "text": [
      "11.7 µs ± 22.1 ns per loop (mean ± std. dev. of 7 runs, 100000 loops each)\n"
     ]
    }
   ],
   "source": [
    "%timeit search([4,5,6,7,8,1,2,3], 8)"
   ]
  },
  {
   "cell_type": "markdown",
   "metadata": {},
   "source": [
    "#### Second attempt\n",
    "\n",
    "Algorithm:\n",
    "The main idea is to iterate like a simple binary search. Except that more conditions are checked to determine which half of the array to look up next.\n",
    "\n",
    "e.g. when the target < mid, it is on the left subarray if targer > first, otherwise on the right subarray\n",
    "\n",
    "Time complexity(worst): O(logN)"
   ]
  },
  {
   "cell_type": "code",
   "execution_count": 26,
   "metadata": {},
   "outputs": [
    {
     "data": {
      "text/plain": [
       "1"
      ]
     },
     "execution_count": 26,
     "metadata": {},
     "output_type": "execute_result"
    }
   ],
   "source": [
    "def search(nums, target):\n",
    "    \"\"\"\n",
    "    :type nums: List[int]\n",
    "    :type target: int\n",
    "    :rtype: int\n",
    "    \"\"\"\n",
    "    if not nums:\n",
    "        return -1\n",
    "    \n",
    "    left = 0\n",
    "    right = len(nums) - 1\n",
    "    \n",
    "    while left < right:\n",
    "        mid = (left + right) // 2\n",
    "        \n",
    "        if nums[mid] == target:\n",
    "            return mid\n",
    "        elif nums[mid] < target:\n",
    "            # when mid < target - we need to check if mid is < first or not \n",
    "            # if it is > first, that means mid is on the right of pivot before rotation\n",
    "            if nums[0] <= nums[mid]:\n",
    "                left = mid + 1\n",
    "            else:\n",
    "                # otherwise, needs compare target with last\n",
    "                if target == nums[-1]:\n",
    "                    return len(nums) - 1\n",
    "                elif target < nums[-1]:\n",
    "                    left = mid + 1\n",
    "                else:\n",
    "                    right = mid - 1\n",
    "        else:  # nums[mid] > target\n",
    "            if nums[0] <= nums[mid]:\n",
    "                if target == nums[0]:\n",
    "                    return 0\n",
    "                elif target < nums[0]:\n",
    "                    left = mid + 1\n",
    "                else:\n",
    "                    right = mid - 1\n",
    "            else:\n",
    "                right = mid - 1\n",
    "                \n",
    "\n",
    "    if nums[left] == target:\n",
    "        return left\n",
    "    else:\n",
    "        return -1\n",
    "    \n",
    "search([3,4,5,1,2], 4)"
   ]
  },
  {
   "cell_type": "code",
   "execution_count": 27,
   "metadata": {},
   "outputs": [
    {
     "name": "stdout",
     "output_type": "stream",
     "text": [
      "8.39 µs ± 8.11 ns per loop (mean ± std. dev. of 7 runs, 100000 loops each)\n"
     ]
    }
   ],
   "source": [
    "%timeit search([4,5,6,7,8,1,2,3], 8)"
   ]
  },
  {
   "cell_type": "code",
   "execution_count": null,
   "metadata": {},
   "outputs": [],
   "source": []
  }
 ],
 "metadata": {
  "kernelspec": {
   "display_name": "Python 3",
   "language": "python",
   "name": "python3"
  },
  "language_info": {
   "codemirror_mode": {
    "name": "ipython",
    "version": 3
   },
   "file_extension": ".py",
   "mimetype": "text/x-python",
   "name": "python",
   "nbconvert_exporter": "python",
   "pygments_lexer": "ipython3",
   "version": "3.6.5"
  }
 },
 "nbformat": 4,
 "nbformat_minor": 2
}
