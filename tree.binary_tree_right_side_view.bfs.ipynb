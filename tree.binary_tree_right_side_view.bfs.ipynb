{
 "cells": [
  {
   "cell_type": "markdown",
   "metadata": {},
   "source": [
    "### Binary Tree Right Side View  \n",
    "  \n",
    "Leetcode: https://leetcode.com/problems/binary-tree-right-side-view/"
   ]
  },
  {
   "cell_type": "markdown",
   "metadata": {},
   "source": [
    "**Algorithm 1** BFS + Queue \n",
    "  \n",
    "Looking at the tree from the right separates tree levels, which reminds me of BFS.   \n",
    "BFS iterates through the entire level before getting further down.  \n",
    "During the iteration, we can store the right most node which will be what is being seen from the right.  \n",
    "  \n",
    "Queue (deque) will be used for BFS\n"
   ]
  },
  {
   "cell_type": "code",
   "execution_count": 14,
   "metadata": {},
   "outputs": [],
   "source": [
    "# Definition for a binary tree node.\n",
    "class TreeNode:\n",
    "    def __init__(self, x):\n",
    "        self.val = x\n",
    "        self.left = None\n",
    "        self.right = None\n",
    "        \n",
    "class Solution:\n",
    "    def rightSideView(self, root):\n",
    "        \"\"\"\n",
    "        :type root: TreeNode\n",
    "        :rtype: List[int]\n",
    "        \"\"\"\n",
    "        right_side_view = []\n",
    "        \n",
    "        nodes = []\n",
    "        nodes.append(root)\n",
    "        \n",
    "        while nodes:\n",
    "            child_nodes = []\n",
    "            \n",
    "            for n in nodes:\n",
    "                if n.left is not None:\n",
    "                    child_nodes.append(n.left)\n",
    "                \n",
    "                if n.right is not None:\n",
    "                    child_nodes.append(n.right)\n",
    "            \n",
    "            right_side_view.append(n.val)\n",
    "            \n",
    "            nodes = child_nodes\n",
    "        \n",
    "        return right_side_view\n",
    "            \n",
    "            \n",
    "            \n",
    "        \n",
    "        \n",
    "        \n",
    "        "
   ]
  },
  {
   "cell_type": "code",
   "execution_count": 13,
   "metadata": {},
   "outputs": [
    {
     "data": {
      "text/plain": [
       "[1, 3, 5]"
      ]
     },
     "execution_count": 13,
     "metadata": {},
     "output_type": "execute_result"
    }
   ],
   "source": [
    "tn1 = TreeNode(1)\n",
    "tn2 = TreeNode(2)\n",
    "tn3 = TreeNode(3)\n",
    "tn5 = TreeNode(5)\n",
    "\n",
    "tn2.left = tn5\n",
    "\n",
    "tn1.left = tn2\n",
    "tn1.right = tn3\n",
    "Solution().rightSideView(tn1)"
   ]
  },
  {
   "cell_type": "code",
   "execution_count": 10,
   "metadata": {},
   "outputs": [
    {
     "data": {
      "text/plain": [
       "[1]"
      ]
     },
     "execution_count": 10,
     "metadata": {},
     "output_type": "execute_result"
    }
   ],
   "source": [
    "tn1 = TreeNode(1)\n",
    "Solution().rightSideView(tn1)"
   ]
  },
  {
   "cell_type": "code",
   "execution_count": 11,
   "metadata": {},
   "outputs": [
    {
     "data": {
      "text/plain": [
       "[1, 3, 6]"
      ]
     },
     "execution_count": 11,
     "metadata": {},
     "output_type": "execute_result"
    }
   ],
   "source": [
    "tn1 = TreeNode(1)\n",
    "tn2 = TreeNode(2)\n",
    "tn3 = TreeNode(3)\n",
    "tn4 = TreeNode(4)\n",
    "tn5 = TreeNode(5)\n",
    "tn6 = TreeNode(6)\n",
    "\n",
    "tn2.left = tn4\n",
    "tn3.left = tn5\n",
    "tn3.right= tn6\n",
    "\n",
    "tn1.left = tn2\n",
    "tn1.right = tn3\n",
    "Solution().rightSideView(tn1)"
   ]
  },
  {
   "cell_type": "code",
   "execution_count": null,
   "metadata": {},
   "outputs": [],
   "source": []
  }
 ],
 "metadata": {
  "kernelspec": {
   "display_name": "Python 3",
   "language": "python",
   "name": "python3"
  },
  "language_info": {
   "codemirror_mode": {
    "name": "ipython",
    "version": 3
   },
   "file_extension": ".py",
   "mimetype": "text/x-python",
   "name": "python",
   "nbconvert_exporter": "python",
   "pygments_lexer": "ipython3",
   "version": "3.6.5"
  }
 },
 "nbformat": 4,
 "nbformat_minor": 2
}
