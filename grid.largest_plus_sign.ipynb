{
 "cells": [
  {
   "cell_type": "markdown",
   "metadata": {},
   "source": [
    "### Largest Plus Sign\n",
    "\n",
    "Leetcode: https://leetcode.com/problems/largest-plus-sign/"
   ]
  },
  {
   "cell_type": "markdown",
   "metadata": {},
   "source": [
    "**Algorithm 1** too slow  \n",
    "  \n",
    "**Time** O(N^3)?  "
   ]
  },
  {
   "cell_type": "code",
   "execution_count": 64,
   "metadata": {},
   "outputs": [],
   "source": [
    "class Solution:\n",
    "    def orderOfLargestPlusSign(self, N, mines):\n",
    "        \"\"\"\n",
    "        :type N: int\n",
    "        :type mines: List[List[int]]\n",
    "        :rtype: int\n",
    "        \"\"\"\n",
    "        \n",
    "        # store mines in a hash set\n",
    "        mines = set(tuple(m) for m in mines)\n",
    "        max_order = 0\n",
    "        memo = set()\n",
    "        \n",
    "        def check(x, y, dist):\n",
    "            u = (x - dist, y)\n",
    "            l = (x, y - dist)\n",
    "            d = (x + dist, y)\n",
    "            r = (x, y + dist)\n",
    "            \n",
    "            result = True\n",
    "            if u in mines or l in mines or d in mines or r in mines:\n",
    "                result = False\n",
    "            \n",
    "            return result\n",
    "        \n",
    "        for order in range(N//2 + N%2, 0, -1):\n",
    "            if order <= max_order:\n",
    "                break\n",
    "                \n",
    "            min_, max_ = order - 1, N - order\n",
    "            \n",
    "            for x in range(min_, max_ + 1):\n",
    "                for y in range(min_, max_ + 1):\n",
    "                    # for each center (x, y) - expand and check\n",
    "                    \n",
    "                    for dist in range(0, order):\n",
    "                        if check(x, y, dist):\n",
    "                            max_order = max(dist + 1, max_order)\n",
    "                        else:\n",
    "                            # if a smaller plus sign won't work, bigger one won't work either\n",
    "                            # jump to next x, y\n",
    "                            break\n",
    "                    \n",
    "        return max_order\n",
    "            "
   ]
  },
  {
   "cell_type": "code",
   "execution_count": 65,
   "metadata": {},
   "outputs": [
    {
     "data": {
      "text/plain": [
       "3"
      ]
     },
     "execution_count": 65,
     "metadata": {},
     "output_type": "execute_result"
    }
   ],
   "source": [
    "Solution().orderOfLargestPlusSign(5, [[]])"
   ]
  },
  {
   "cell_type": "code",
   "execution_count": 66,
   "metadata": {},
   "outputs": [
    {
     "data": {
      "text/plain": [
       "1"
      ]
     },
     "execution_count": 66,
     "metadata": {},
     "output_type": "execute_result"
    }
   ],
   "source": [
    "Solution().orderOfLargestPlusSign(2, [[0,0], [1,1]])"
   ]
  },
  {
   "cell_type": "code",
   "execution_count": 67,
   "metadata": {},
   "outputs": [
    {
     "data": {
      "text/plain": [
       "2"
      ]
     },
     "execution_count": 67,
     "metadata": {},
     "output_type": "execute_result"
    }
   ],
   "source": [
    "mines = [[0,0],[0,3],[0,7],\n",
    "         [1,1],[1,2],[1,8],[1,9],\n",
    "         [2,0],[2,5],[2,6],[2,9],\n",
    "         [3,2],[3,4],[3,7],\n",
    "         [4,0],[4,3],[4,6],[4,7],\n",
    "         [5,0],[5,8],[5,9],\n",
    "         [6,2],[6,3],[6,8],[6,9],\n",
    "         [7,0],[7,1],[7,5],[7,9],\n",
    "         [8,4],[8,9],\n",
    "         [9,1],[9,3],[9,4],[9,8],[9,9]]\n",
    "Solution().orderOfLargestPlusSign(10, mines)"
   ]
  },
  {
   "cell_type": "markdown",
   "metadata": {},
   "source": [
    "**Algorithm 2** - added memoization\n",
    "\n",
    "Noticed that the same center is visited over and over.   \n",
    "This solution just added memoization to skip the visit center.  "
   ]
  },
  {
   "cell_type": "code",
   "execution_count": 69,
   "metadata": {},
   "outputs": [],
   "source": [
    "class Solution:\n",
    "    def orderOfLargestPlusSign(self, N, mines):\n",
    "        \"\"\"\n",
    "        :type N: int\n",
    "        :type mines: List[List[int]]\n",
    "        :rtype: int\n",
    "        \"\"\"\n",
    "        \n",
    "        # store mines in a hash set\n",
    "        mines = set(tuple(m) for m in mines)\n",
    "        max_order = 0\n",
    "        memo = set()\n",
    "        \n",
    "        def check(x, y, dist):\n",
    "            u = (x - dist, y)\n",
    "            l = (x, y - dist)\n",
    "            d = (x + dist, y)\n",
    "            r = (x, y + dist)\n",
    "            \n",
    "            result = True\n",
    "            if u in mines or l in mines or d in mines or r in mines:\n",
    "                result = False\n",
    "            \n",
    "            return result\n",
    "        \n",
    "        for order in range(N//2 + N%2, 0, -1):\n",
    "            if order <= max_order:\n",
    "                break\n",
    "                \n",
    "            min_, max_ = order - 1, N - order\n",
    "            \n",
    "            for x in range(min_, max_ + 1):\n",
    "                for y in range(min_, max_ + 1):\n",
    "                    # for each center (x, y) - expand and check\n",
    "                    \n",
    "                    if (x, y) in memo:\n",
    "                        continue\n",
    "                    \n",
    "                    for dist in range(0, order):\n",
    "                        if check(x, y, dist):\n",
    "                            max_order = max(dist + 1, max_order)\n",
    "                        else:\n",
    "                            # if a smaller plus sign won't work, bigger one won't work either\n",
    "                            # jump to next x, y\n",
    "                            break\n",
    "                    \n",
    "                    memo.add((x,y)) \n",
    "                    \n",
    "        return max_order"
   ]
  },
  {
   "cell_type": "code",
   "execution_count": null,
   "metadata": {},
   "outputs": [],
   "source": []
  }
 ],
 "metadata": {
  "kernelspec": {
   "display_name": "Python 3",
   "language": "python",
   "name": "python3"
  },
  "language_info": {
   "codemirror_mode": {
    "name": "ipython",
    "version": 3
   },
   "file_extension": ".py",
   "mimetype": "text/x-python",
   "name": "python",
   "nbconvert_exporter": "python",
   "pygments_lexer": "ipython3",
   "version": "3.6.5"
  }
 },
 "nbformat": 4,
 "nbformat_minor": 2
}
