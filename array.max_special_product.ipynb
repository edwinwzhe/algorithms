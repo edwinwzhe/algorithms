{
 "cells": [
  {
   "cell_type": "markdown",
   "metadata": {},
   "source": [
    "### Max Special Product\n",
    "\n",
    "InterviewBit: https://www.interviewbit.com/problems/maxspprod/"
   ]
  },
  {
   "cell_type": "markdown",
   "metadata": {},
   "source": [
    "Approach 1 - stack\n",
    "Brute Force is the most obvious approach with O(N^2) Time and O(1) Space   \n",
    "Can't figure out how to optimise until getting the hint which suggest trying stack.  \n",
    "\n",
    "The stack approach is surprisingly straight forward. \n",
    "Calculate the left index first but iterating through the list from left to right.  \n",
    "Check top of stack and pop if number at top of stack is smaller than A[idx] until stack is empty (which mean the left special index is 0), or a number better is found. Then push itself  \n",
    "to the stack and move to the next idx.  \n",
    "  \n",
    "The reason this works is that, if there is a number greater than the current, keep it in the stack and pop all smaller numbers smaller than current because the numbers in the future(right) only needs numbers larger than current.\n",
    "  \n",
    "  \n",
    "**Time Complexity**\n",
    "O(2N) = O(N)  \n",
    "\n",
    "**Space Complexity**\n",
    "O(3N) = O(N) \n",
    "one list for "
   ]
  },
  {
   "cell_type": "code",
   "execution_count": 23,
   "metadata": {},
   "outputs": [],
   "source": [
    "class Solution:\n",
    "    # @param A : list of integers\n",
    "    # @return an integer\n",
    "    def maxSpecialProduct(self, A):\n",
    "        # build left index\n",
    "        left_idx = [0] * len(A)\n",
    "        right_idx = [0] * len(A)\n",
    "        stack= []\n",
    "    \n",
    "        for i in range(len(A)):\n",
    "            if not stack:\n",
    "                left_idx[i] = 0\n",
    "                stack.append((A[i], i))\n",
    "                continue\n",
    "                \n",
    "            while stack and stack[-1][0] <= A[i]:\n",
    "                stack.pop()\n",
    "            \n",
    "            if stack:\n",
    "                left_idx[i] = stack[-1][1]\n",
    "            \n",
    "            stack.append((A[i], i))\n",
    "        \n",
    "        # build right index\n",
    "        stack = []\n",
    "        for i in range(len(A) - 1, -1, -1):\n",
    "            if not stack:\n",
    "                right_idx[i] = 0\n",
    "                stack.append((A[i], i))\n",
    "                continue\n",
    "                \n",
    "            while stack and stack[-1][0] <= A[i]:\n",
    "                stack.pop()\n",
    "            \n",
    "            if stack:\n",
    "                right_idx[i] = stack[-1][1]\n",
    "            \n",
    "            stack.append((A[i], i))\n",
    "            \n",
    "        print(left_idx)\n",
    "        print(right_idx)\n",
    "        \n",
    "        return max([x*y for x, y in zip(left_idx, right_idx)])\n",
    "    \n"
   ]
  },
  {
   "cell_type": "code",
   "execution_count": 24,
   "metadata": {},
   "outputs": [
    {
     "name": "stdout",
     "output_type": "stream",
     "text": [
      "[0, 0, 0, 2, 3, 3]\n",
      "[2, 2, 0, 0, 5, 0]\n"
     ]
    },
    {
     "data": {
      "text/plain": [
       "15"
      ]
     },
     "execution_count": 24,
     "metadata": {},
     "output_type": "execute_result"
    }
   ],
   "source": [
    "Solution().maxSpecialProduct([3,1,9,8,2,4])"
   ]
  },
  {
   "cell_type": "code",
   "execution_count": 25,
   "metadata": {},
   "outputs": [
    {
     "name": "stdout",
     "output_type": "stream",
     "text": [
      "[0, 0, 0, 2, 2, 2]\n",
      "[1, 2, 0, 5, 5, 0]\n"
     ]
    },
    {
     "data": {
      "text/plain": [
       "10"
      ]
     },
     "execution_count": 25,
     "metadata": {},
     "output_type": "execute_result"
    }
   ],
   "source": [
    "Solution().maxSpecialProduct([6,7,9,5,5,8])"
   ]
  },
  {
   "cell_type": "code",
   "execution_count": 28,
   "metadata": {},
   "outputs": [
    {
     "name": "stdout",
     "output_type": "stream",
     "text": [
      "[0, 0, 0, 2, 3]\n",
      "[1, 2, 0, 0, 0]\n"
     ]
    },
    {
     "data": {
      "text/plain": [
       "0"
      ]
     },
     "execution_count": 28,
     "metadata": {},
     "output_type": "execute_result"
    }
   ],
   "source": [
    "Solution().maxSpecialProduct([0, 1, 3, 1, 0])"
   ]
  },
  {
   "cell_type": "code",
   "execution_count": null,
   "metadata": {},
   "outputs": [],
   "source": []
  }
 ],
 "metadata": {
  "kernelspec": {
   "display_name": "Python 3",
   "language": "python",
   "name": "python3"
  },
  "language_info": {
   "codemirror_mode": {
    "name": "ipython",
    "version": 3
   },
   "file_extension": ".py",
   "mimetype": "text/x-python",
   "name": "python",
   "nbconvert_exporter": "python",
   "pygments_lexer": "ipython3",
   "version": "3.6.5"
  }
 },
 "nbformat": 4,
 "nbformat_minor": 2
}
