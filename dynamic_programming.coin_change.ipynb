{
 "cells": [
  {
   "cell_type": "markdown",
   "metadata": {},
   "source": [
    "## Coin Change 2\n",
    "Find all possible ways of combining the coins"
   ]
  },
  {
   "cell_type": "code",
   "execution_count": 40,
   "metadata": {},
   "outputs": [
    {
     "name": "stdout",
     "output_type": "stream",
     "text": [
      "CPU times: user 12.1 s, sys: 28.7 ms, total: 12.1 s\n",
      "Wall time: 12.1 s\n"
     ]
    },
    {
     "data": {
      "text/plain": [
       "50401"
      ]
     },
     "execution_count": 40,
     "metadata": {},
     "output_type": "execute_result"
    }
   ],
   "source": [
    "# Solution1 - without memoization\n",
    "#\n",
    "# The idea is to start from a coin, then try to fill the remaining amount with smaller values\n",
    "# e.g. 10 first filled with a 5, then calling change(10-5, coins=[2, 1])\n",
    "#         then filled again with 5, then calling change(5-5, coins=[2, 1])\n",
    "#      10 then restart with coin value 2, then calling change(10-2, coins=[1])\n",
    "#         then filled with coin 2 again, then calling change(8-2, coins=[1])\n",
    "#         then filled with coin 2 again, then calling change(6-2, coins=[1])\n",
    "#         then filled with coin 2 again, then calling change(4-2, coins=[1])\n",
    "#         then filled with coin 2 again, then calling change(2-2, coins=[1])\n",
    "#      10 then restart with coin value 1, then calling change(10-1, coins)\n",
    "\n",
    "amount = 1000\n",
    "coins = [1, 2, 5]\n",
    "\n",
    "def change(amount, coins):\n",
    "    #print('-- change(%s, %s) --' % (amount, coins))\n",
    "    if amount == 0:\n",
    "        #print('change -> 1 - amount == 0')\n",
    "        return 1\n",
    "\n",
    "    # sort coins so we start from bigger to smaller coins to avoid duplications \n",
    "    # such as 5221 and 2251\n",
    "    coins.sort(reverse=True)\n",
    "\n",
    "    num_of_changes = 0\n",
    "\n",
    "    # start from the largest\n",
    "    for i, coin in enumerate(coins):\n",
    "        #print('Iterating coin ', coin)\n",
    "        # Reset remaining to start from stratch every time restarting from a new coin value\n",
    "        # Only coins with equal/smaller values will be considered\n",
    "        remaining = amount \n",
    "        \n",
    "        while coin <= remaining:\n",
    "            remaining -= coin\n",
    "            num_of_changes += change(remaining, coins[i+1:])  # won't failed even i+1 >= len(coins)\n",
    "\n",
    "    #print('change -> %s' % num_of_changes)\n",
    "    return num_of_changes\n",
    "\n",
    "%time change(amount ,coins)"
   ]
  },
  {
   "cell_type": "code",
   "execution_count": 50,
   "metadata": {},
   "outputs": [
    {
     "name": "stdout",
     "output_type": "stream",
     "text": [
      "CPU times: user 5.09 s, sys: 15 ms, total: 5.1 s\n",
      "Wall time: 5.11 s\n"
     ]
    },
    {
     "data": {
      "text/plain": [
       "992951208"
      ]
     },
     "execution_count": 50,
     "metadata": {},
     "output_type": "execute_result"
    }
   ],
   "source": [
    "# Solution 2 - with memoization\n",
    "# search 'memo' for changes\n",
    "\n",
    "amount = 5\n",
    "coins = [1, 2, 5]\n",
    "\n",
    "amount = 5000\n",
    "coins = [11, 24, 37, 50, 63, 76, 89, 102]\n",
    "\n",
    "def change(amount, coins, memo):\n",
    "    #print('-- change(%s, %s) --' % (amount, coins))\n",
    "    # memo - build a key that stores the result of the amount+coins combination\n",
    "    key = '_'.join([str(amount), '.'.join(map(str, coins))])\n",
    "    \n",
    "    if amount == 0:\n",
    "        return 1\n",
    "    elif key in memo:\n",
    "        # memo - return stored value\n",
    "        return memo[key]\n",
    "\n",
    "    coins.sort(reverse=True)\n",
    "\n",
    "    num_of_changes = 0\n",
    "\n",
    "    for i, coin in enumerate(coins):\n",
    "        remaining = amount \n",
    "        \n",
    "        while coin <= remaining:\n",
    "            remaining -= coin\n",
    "            \n",
    "            if remaining == 0:\n",
    "                num_of_changes += 1\n",
    "            elif i + 1 < len(coins):\n",
    "                num_of_changes += change(remaining, coins[i+1:], memo)  #memo, pass memo down\n",
    "\n",
    "    # memo - save value for future use\n",
    "    memo[key] = num_of_changes\n",
    "    return num_of_changes\n",
    "\n",
    "%time change(amount, coins, dict())"
   ]
  },
  {
   "cell_type": "code",
   "execution_count": null,
   "metadata": {},
   "outputs": [],
   "source": []
  }
 ],
 "metadata": {
  "kernelspec": {
   "display_name": "General Purpose Py37",
   "language": "python",
   "name": "general_purpose_37"
  },
  "language_info": {
   "codemirror_mode": {
    "name": "ipython",
    "version": 3
   },
   "file_extension": ".py",
   "mimetype": "text/x-python",
   "name": "python",
   "nbconvert_exporter": "python",
   "pygments_lexer": "ipython3",
   "version": "3.7.2"
  }
 },
 "nbformat": 4,
 "nbformat_minor": 2
}
