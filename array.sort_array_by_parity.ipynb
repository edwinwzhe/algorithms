{
 "cells": [
  {
   "cell_type": "markdown",
   "metadata": {},
   "source": [
    "### Sort Array By Parity\n",
    "\n",
    "Leetcode: https://leetcode.com/problems/sort-array-by-parity/"
   ]
  },
  {
   "cell_type": "markdown",
   "metadata": {},
   "source": [
    "**Algorithm 1** two pointers  \n",
    "\n",
    "It natrually comes to the two pointers solutions which keeps moving until pointing at odd(left) and even(right) numbers, then swap it.  \n",
    "\n",
    "**Time** O(N)  \n",
    "**Space** O(1)"
   ]
  },
  {
   "cell_type": "code",
   "execution_count": 1,
   "metadata": {},
   "outputs": [],
   "source": [
    "class Solution:\n",
    "    def sortArrayByParity(self, A):\n",
    "        \"\"\"\n",
    "        :type A: List[int]\n",
    "        :rtype: List[int]\n",
    "        \"\"\"\n",
    "        \n",
    "        odd_ptr = 0\n",
    "        even_ptr = len(A) - 1\n",
    "        \n",
    "        while True:\n",
    "            while odd_ptr < len(A) and A[odd_ptr] % 2 == 0:\n",
    "                odd_ptr += 1\n",
    "            \n",
    "            while even_ptr >= 0 and A[even_ptr] % 2 != 0:\n",
    "                even_ptr -= 1\n",
    "            \n",
    "            if odd_ptr < even_ptr:\n",
    "                A[odd_ptr], A[even_ptr] = A[even_ptr], A[odd_ptr]\n",
    "            else:\n",
    "                break\n",
    "        \n",
    "        return A\n",
    "            "
   ]
  },
  {
   "cell_type": "code",
   "execution_count": null,
   "metadata": {},
   "outputs": [],
   "source": []
  }
 ],
 "metadata": {
  "kernelspec": {
   "display_name": "Python 3",
   "language": "python",
   "name": "python3"
  },
  "language_info": {
   "codemirror_mode": {
    "name": "ipython",
    "version": 3
   },
   "file_extension": ".py",
   "mimetype": "text/x-python",
   "name": "python",
   "nbconvert_exporter": "python",
   "pygments_lexer": "ipython3",
   "version": "3.6.5"
  }
 },
 "nbformat": 4,
 "nbformat_minor": 2
}
