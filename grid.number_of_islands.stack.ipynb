{
 "cells": [
  {
   "cell_type": "markdown",
   "metadata": {},
   "source": [
    "### Number of Islands\n",
    "  \n",
    "Leetcode: https://leetcode.com/problems/number-of-islands/"
   ]
  },
  {
   "cell_type": "markdown",
   "metadata": {},
   "source": [
    "**Algorithm**  \n",
    "  \n",
    "Maintain a visited set that stores all visited cells. Uses stack cells_to_explore (Python list) to perform DFS:  \n",
    "Iterate every cell from left to right, top to bottom - skip the cell if already visited or its value is 0.\n",
    "Otherwise it is an unvisited part of an island, increment the counter - then do a DFS to all connected cells to add the entire island into visited hashset. \n",
    "\n",
    "**Time** O(n) - cells is visited exactly once.   \n",
    "**Space** O(n) - O(n) for visited another O(n) for stack (worse case the entire land is one island)"
   ]
  },
  {
   "cell_type": "code",
   "execution_count": 24,
   "metadata": {},
   "outputs": [],
   "source": [
    "class Solution:\n",
    "    def numIslands(self, grid):\n",
    "        \"\"\"\n",
    "        :type grid: List[List[str]]\n",
    "        :rtype: int\n",
    "        \"\"\"\n",
    "        if not grid:\n",
    "            return 0\n",
    "        \n",
    "        num_islands = 0\n",
    "        visited = set()\n",
    "        cells_to_explore = []\n",
    "        \n",
    "        def queue_cells(row_num, col_num):\n",
    "            if row_num > 0 and grid[row_num-1][col_num] == \"1\" and (row_num-1, col_num) not in visited:\n",
    "                cells_to_explore.append((row_num-1, col_num))\n",
    "            \n",
    "            if row_num < len(grid) - 1 and grid[row_num+1][col_num] == \"1\" and (row_num+1, col_num) not in visited:\n",
    "                cells_to_explore.append((row_num+1, col_num))\n",
    "                \n",
    "            if col_num > 0 and grid[row_num][col_num-1] == \"1\" and (row_num, col_num-1) not in visited:\n",
    "                cells_to_explore.append((row_num, col_num-1))\n",
    "            \n",
    "            if col_num < len(grid[0]) - 1 and grid[row_num][col_num+1] == \"1\" and (row_num, col_num+1) not in visited:\n",
    "                cells_to_explore.append((row_num, col_num+1))\n",
    "        \n",
    "        for row_num, row in enumerate(grid):\n",
    "            for col_num, val in enumerate(row):\n",
    "                #print(row_num, col_num, val, visited, cells_to_explore)\n",
    "                coord = (row_num, col_num)\n",
    "                if coord in visited:\n",
    "                    continue\n",
    "                else:\n",
    "                    visited.add(coord)\n",
    "                \n",
    "                # new island\n",
    "                if val == '1':\n",
    "                    num_islands += 1\n",
    "                    queue_cells(row_num, col_num)\n",
    "                    \n",
    "                    while cells_to_explore:\n",
    "                        connected_cell = cells_to_explore.pop()\n",
    "                        visited.add(connected_cell)\n",
    "                        queue_cells(*connected_cell)\n",
    "                \n",
    "        return num_islands"
   ]
  },
  {
   "cell_type": "code",
   "execution_count": 25,
   "metadata": {},
   "outputs": [
    {
     "data": {
      "text/plain": [
       "1"
      ]
     },
     "execution_count": 25,
     "metadata": {},
     "output_type": "execute_result"
    }
   ],
   "source": [
    "grid = [[\"1\",\"1\",\"1\"],[\"0\",\"1\",\"0\"],[\"1\",\"1\",\"1\"]]\n",
    "Solution().numIslands(grid)"
   ]
  },
  {
   "cell_type": "code",
   "execution_count": 26,
   "metadata": {},
   "outputs": [
    {
     "data": {
      "text/plain": [
       "1"
      ]
     },
     "execution_count": 26,
     "metadata": {},
     "output_type": "execute_result"
    }
   ],
   "source": [
    "grid = [[\"1\",\"1\",\"1\",\"1\",\"0\"],[\"1\",\"1\",\"0\",\"1\",\"0\"],[\"1\",\"1\",\"0\",\"0\",\"0\"],[\"0\",\"0\",\"0\",\"0\",\"0\"]]\n",
    "Solution().numIslands(grid)"
   ]
  },
  {
   "cell_type": "code",
   "execution_count": 27,
   "metadata": {},
   "outputs": [
    {
     "data": {
      "text/plain": [
       "3"
      ]
     },
     "execution_count": 27,
     "metadata": {},
     "output_type": "execute_result"
    }
   ],
   "source": [
    "grid = [[\"1\",\"1\",\"0\",\"0\",\"0\"],[\"1\",\"1\",\"0\",\"0\",\"0\"],[\"0\",\"0\",\"1\",\"0\",\"0\"],[\"0\",\"0\",\"0\",\"1\",\"1\"]]\n",
    "Solution().numIslands(grid)"
   ]
  },
  {
   "cell_type": "code",
   "execution_count": 28,
   "metadata": {},
   "outputs": [
    {
     "data": {
      "text/plain": [
       "1"
      ]
     },
     "execution_count": 28,
     "metadata": {},
     "output_type": "execute_result"
    }
   ],
   "source": [
    "grid = [[\"1\"],[\"1\"]]\n",
    "Solution().numIslands(grid)"
   ]
  },
  {
   "cell_type": "code",
   "execution_count": 29,
   "metadata": {},
   "outputs": [
    {
     "data": {
      "text/plain": [
       "2"
      ]
     },
     "execution_count": 29,
     "metadata": {},
     "output_type": "execute_result"
    }
   ],
   "source": [
    "grid = [[\"1\", \"0\"],[\"0\", \"1\"]]\n",
    "Solution().numIslands(grid)"
   ]
  },
  {
   "cell_type": "code",
   "execution_count": 30,
   "metadata": {},
   "outputs": [
    {
     "data": {
      "text/plain": [
       "0"
      ]
     },
     "execution_count": 30,
     "metadata": {},
     "output_type": "execute_result"
    }
   ],
   "source": [
    "grid = [[],[]]\n",
    "Solution().numIslands(grid)"
   ]
  },
  {
   "cell_type": "code",
   "execution_count": null,
   "metadata": {},
   "outputs": [],
   "source": []
  }
 ],
 "metadata": {
  "kernelspec": {
   "display_name": "Python 3",
   "language": "python",
   "name": "python3"
  },
  "language_info": {
   "codemirror_mode": {
    "name": "ipython",
    "version": 3
   },
   "file_extension": ".py",
   "mimetype": "text/x-python",
   "name": "python",
   "nbconvert_exporter": "python",
   "pygments_lexer": "ipython3",
   "version": "3.6.5"
  }
 },
 "nbformat": 4,
 "nbformat_minor": 2
}
