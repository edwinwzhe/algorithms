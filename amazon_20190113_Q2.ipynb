{
 "cells": [
  {
   "cell_type": "markdown",
   "metadata": {},
   "source": [
    "### Optimize device usage\n",
    "Given two list - one for foreground apps, one for background apps. \n",
    "Each (app_id, app_ram_required), and device ram. Find all pairs of ids (one fore one background app) that maximize the device usage.\n"
   ]
  },
  {
   "cell_type": "code",
   "execution_count": 53,
   "metadata": {},
   "outputs": [
    {
     "data": {
      "text/plain": [
       "[[1, 2], [1, 3], [2, 2], [2, 3], [4, 4], [5, 6], [5, 7]]"
      ]
     },
     "execution_count": 53,
     "metadata": {},
     "output_type": "execute_result"
    }
   ],
   "source": [
    "# Solution 1\n",
    "# Brute force\n",
    "# Time: O(N*M)\n",
    "\n",
    "from collections import defaultdict\n",
    "\n",
    "def maximize_usage(device_ram, foreground_apps, background_apps):\n",
    "    max_ram = 0\n",
    "    apps = []\n",
    "    \n",
    "    for fg_app in foreground_apps:\n",
    "        fg_id, fg_ram = fg_app\n",
    "        \n",
    "        if fg_ram > device_ram:\n",
    "            continue\n",
    "        \n",
    "        for bg_app in background_apps:\n",
    "            bg_id, bg_ram = bg_app\n",
    "            total_ram = fg_ram + bg_ram\n",
    "            \n",
    "            if total_ram > device_ram:\n",
    "                continue\n",
    "            \n",
    "            if total_ram > max_ram:\n",
    "                max_ram = total_ram\n",
    "                apps = [[fg_id, bg_id]]\n",
    "            elif total_ram == max_ram:\n",
    "                max_ram = total_ram\n",
    "                apps.append([fg_id, bg_id])\n",
    "            \n",
    "    #print(max_ram, apps)\n",
    "    return apps\n",
    "\n",
    "\n",
    "foreground_apps = [[1, 2], [2,2], [3, 4], [4, 8], [5, 6], [6, 1], [7, 10]]\n",
    "background_apps = [[1, 1], [2, 11], [3, 11], [4, 5], [5, 2], [6, 7], [7, 7], [8,15]]\n",
    "\n",
    "maximize_usage(14, foreground_apps, background_apps)"
   ]
  },
  {
   "cell_type": "code",
   "execution_count": 54,
   "metadata": {},
   "outputs": [
    {
     "data": {
      "text/plain": [
       "[[4, 4], [5, 6], [5, 7], [1, 2], [2, 2], [2, 3]]"
      ]
     },
     "execution_count": 54,
     "metadata": {},
     "output_type": "execute_result"
    }
   ],
   "source": [
    "# Solution 2\n",
    "# Time: O(N LogN + M LogM)\n",
    "\n",
    "from collections import defaultdict\n",
    "from operator import itemgetter\n",
    "\n",
    "def maximize_usage(device_ram, foreground_apps, background_apps):\n",
    "    max_ram = 0\n",
    "    apps = []\n",
    "    \n",
    "    foreground_apps.sort(key=itemgetter(1), reverse=True) # decending\n",
    "    background_apps.sort(key=itemgetter(1))               # ascending\n",
    "    \n",
    "    fg_ptr = bg_ptr = 0\n",
    "    \n",
    "    while fg_ptr < len(foreground_apps) and bg_ptr < len(background_apps):\n",
    "        fg_id, fg_ram = foreground_apps[fg_ptr]\n",
    "        bg_id, bg_ram = background_apps[bg_ptr]\n",
    "        \n",
    "        total_ram = fg_ram + bg_ram\n",
    "        \n",
    "        if total_ram > device_ram:\n",
    "            fg_ptr += 1\n",
    "            continue\n",
    "        \n",
    "        if total_ram >= max_ram:\n",
    "            if total_ram > max_ram:\n",
    "                max_ram = total_ram\n",
    "                apps = [[fg_id, bg_id]]\n",
    "            else:\n",
    "                # total_ram == max_ram\n",
    "                apps.append([fg_id, bg_id])\n",
    "            \n",
    "            # the look forward\n",
    "            next_fg_ram = foreground_apps[fg_ptr+1][1]\n",
    "            if next_fg_ram == fg_ram:\n",
    "                fg_ptr += 1\n",
    "            else:\n",
    "                bg_ptr += 1\n",
    "        else:\n",
    "            # total_ram < max_ram -> increase total_ram by moving bg_ptr\n",
    "            bg_ptr += 1\n",
    "    \n",
    "    return apps\n",
    "\n",
    "\n",
    "foreground_apps = [[1, 2], [2,2], [3, 4], [4, 8], [5, 6], [6, 1], [7, 10]]\n",
    "background_apps = [[1, 1], [2, 11], [3, 11], [4, 5], [5, 2], [6, 7], [7, 7], [8,15]]\n",
    "\n",
    "maximize_usage(14, foreground_apps, background_apps)"
   ]
  },
  {
   "cell_type": "code",
   "execution_count": null,
   "metadata": {},
   "outputs": [],
   "source": []
  },
  {
   "cell_type": "code",
   "execution_count": null,
   "metadata": {},
   "outputs": [],
   "source": []
  }
 ],
 "metadata": {
  "kernelspec": {
   "display_name": "Python 3",
   "language": "python",
   "name": "python3"
  },
  "language_info": {
   "codemirror_mode": {
    "name": "ipython",
    "version": 3
   },
   "file_extension": ".py",
   "mimetype": "text/x-python",
   "name": "python",
   "nbconvert_exporter": "python",
   "pygments_lexer": "ipython3",
   "version": "3.7.2"
  }
 },
 "nbformat": 4,
 "nbformat_minor": 2
}
