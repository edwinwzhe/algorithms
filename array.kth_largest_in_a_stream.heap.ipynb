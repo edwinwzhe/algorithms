{
 "cells": [
  {
   "cell_type": "markdown",
   "metadata": {},
   "source": [
    "### Kth largest element in a stream\n",
    "\n",
    "Leetcode: https://leetcode.com/problems/kth-largest-element-in-a-stream/"
   ]
  },
  {
   "cell_type": "markdown",
   "metadata": {},
   "source": [
    "**Observation**  \n",
    "we just need to keep the k largest numbers, and do not care about numbers smaller than that.  \n",
    "also, we need to keep the k largest numbers in an ordered state, which should be faster than sorting them every time.   \n",
    "  \n",
    "**Algorithm 1** - Heap  \n",
    "Using heap. heap push and pop are O(logN), way better comparing to sorting O(N logN).  \n",
    "First we heapify the list (min heap) and push until the heap size is the same as k.   \n",
    "Then every time we see a number, if it is < heap top (min), return heap top.  \n",
    "Otherwise, pop the min, and push the new value.  "
   ]
  },
  {
   "cell_type": "code",
   "execution_count": 1,
   "metadata": {},
   "outputs": [],
   "source": [
    "import heapq\n",
    "\n",
    "class KthLargest:\n",
    "    def __init__(self, k, nums):\n",
    "        \"\"\"\n",
    "        :type k: int\n",
    "        :type nums: List[int]\n",
    "        \"\"\"\n",
    "        self.k = k\n",
    "        self.largest = nums\n",
    "        heapq.heapify(self.largest)\n",
    "        \n",
    "        while len(self.largest) > k:\n",
    "            heapq.heappop(self.largest)\n",
    "\n",
    "    def add(self, val):\n",
    "        \"\"\"\n",
    "        :type val: int\n",
    "        :rtype: int\n",
    "        \"\"\"\n",
    "        if len(self.largest) < self.k:\n",
    "            heapq.heappush(self.largest, val)\n",
    "            return self.largest[0]\n",
    "            \n",
    "        if val <= self.largest[0]:\n",
    "            return self.largest[0]\n",
    "            \n",
    "        heapq.heappop(self.largest)\n",
    "        heapq.heappush(self.largest, val)\n",
    "        return self.largest[0]\n",
    "            \n",
    "        \n",
    "\n",
    "\n",
    "# Your KthLargest object will be instantiated and called as such:\n",
    "# obj = KthLargest(k, nums)\n",
    "# param_1 = obj.add(val)"
   ]
  },
  {
   "cell_type": "code",
   "execution_count": 2,
   "metadata": {},
   "outputs": [
    {
     "data": {
      "text/plain": [
       "-1"
      ]
     },
     "execution_count": 2,
     "metadata": {},
     "output_type": "execute_result"
    }
   ],
   "source": [
    "k = 2\n",
    "arr = [0]\n",
    "kthLargest = KthLargest(3, arr)\n",
    "kthLargest.largest\n",
    "kthLargest.add(-1)   # returns 4\n",
    "#kthLargest.add(1)   # returns 5\n",
    "#kthLargest.add(-2)  # returns 5\n",
    "#kthLargest.add(-4)   # returns 8\n",
    "#kthLargest.add(3)   # returns 8"
   ]
  },
  {
   "cell_type": "code",
   "execution_count": null,
   "metadata": {},
   "outputs": [],
   "source": []
  }
 ],
 "metadata": {
  "kernelspec": {
   "display_name": "Python 3",
   "language": "python",
   "name": "python3"
  },
  "language_info": {
   "codemirror_mode": {
    "name": "ipython",
    "version": 3
   },
   "file_extension": ".py",
   "mimetype": "text/x-python",
   "name": "python",
   "nbconvert_exporter": "python",
   "pygments_lexer": "ipython3",
   "version": "3.6.5"
  }
 },
 "nbformat": 4,
 "nbformat_minor": 2
}
