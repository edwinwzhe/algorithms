{
 "cells": [
  {
   "cell_type": "markdown",
   "metadata": {},
   "source": [
    "### Partition List\n",
    "\n",
    "Example:\n",
    "Input: head = 1->4->3->2->5->2, x = 3  \n",
    "Output: 1->2->2->4->3->5\n",
    "\n",
    "Leetcode: https://leetcode.com/problems/partition-list/\n",
    "  \n",
    "#### Time Complexity:\n",
    "O(N) - only iterate through the list once  \n",
    "#### Space Complexity:\n",
    "O(1) - we are not using extra spaces other than a few (constant) number of pointers\n",
    "\n",
    " "
   ]
  },
  {
   "cell_type": "code",
   "execution_count": 37,
   "metadata": {},
   "outputs": [],
   "source": [
    "# Definition for singly-linked list.\n",
    "class ListNode:\n",
    "    def __init__(self, x):\n",
    "        self.val = x\n",
    "        self.next = None\n",
    "    def __repr__(self):\n",
    "        return f'ListNode({self.val})'\n",
    "\n",
    "def partition(head, x):\n",
    "    nodes_greater_start = nodes_greater_end = None\n",
    "    nodes_smaller_start = nodes_smaller_end = None\n",
    "    \n",
    "    node = head\n",
    "    \n",
    "    while node is not None:\n",
    "        print(f'iterating {node}')\n",
    "        next_node = node.next\n",
    "        node.next = None\n",
    "        \n",
    "        if x <= node.val:\n",
    "            if not nodes_greater_start:\n",
    "                nodes_greater_start = nodes_greater_end = node\n",
    "            else:\n",
    "                nodes_greater_end.next = node\n",
    "                nodes_greater_end = node\n",
    "        else:\n",
    "            if not nodes_smaller_start:\n",
    "                nodes_smaller_start = nodes_smaller_end = node\n",
    "            else:\n",
    "                nodes_smaller_end.next = node\n",
    "                nodes_smaller_end = node\n",
    "                \n",
    "        node = next_node\n",
    "        print(f'next: {node}, greater_end: {nodes_greater_end}, smaller_end: {nodes_smaller_end}')\n",
    "    \n",
    "    if nodes_smaller_end is None:\n",
    "        return nodes_greater_start\n",
    "    elif nodes_greater_start is None:\n",
    "        return nodes_smaller_start\n",
    "    else:\n",
    "        nodes_smaller_end.next = nodes_greater_start\n",
    "        return nodes_smaller_start"
   ]
  },
  {
   "cell_type": "code",
   "execution_count": 39,
   "metadata": {},
   "outputs": [
    {
     "name": "stdout",
     "output_type": "stream",
     "text": [
      "iterating ListNode(1)\n",
      "next: ListNode(2), greater_end: None, smaller_end: ListNode(1)\n",
      "iterating ListNode(2)\n",
      "next: ListNode(2), greater_end: None, smaller_end: ListNode(2)\n",
      "iterating ListNode(2)\n",
      "next: ListNode(4), greater_end: None, smaller_end: ListNode(2)\n",
      "iterating ListNode(4)\n",
      "next: ListNode(3), greater_end: ListNode(4), smaller_end: ListNode(2)\n",
      "iterating ListNode(3)\n",
      "next: ListNode(5), greater_end: ListNode(3), smaller_end: ListNode(2)\n",
      "iterating ListNode(5)\n",
      "next: None, greater_end: ListNode(5), smaller_end: ListNode(2)\n",
      "ListNode(1)\n",
      "ListNode(2)\n",
      "ListNode(2)\n",
      "ListNode(4)\n",
      "ListNode(3)\n",
      "ListNode(5)\n"
     ]
    }
   ],
   "source": [
    "nodes = [1, 2, 2, 4, 3, 5]\n",
    "start = prev = None\n",
    "\n",
    "for l in nodes:\n",
    "    node = ListNode(l)\n",
    "    if start is None:\n",
    "        start = prev = node\n",
    "    else:\n",
    "        prev.next = node\n",
    "        prev = node\n",
    "        \n",
    "result = partition(start, 3) \n",
    "\n",
    "while result is not None:\n",
    "    print(result)\n",
    "    result = result.next\n"
   ]
  },
  {
   "cell_type": "code",
   "execution_count": null,
   "metadata": {},
   "outputs": [],
   "source": []
  },
  {
   "cell_type": "code",
   "execution_count": null,
   "metadata": {},
   "outputs": [],
   "source": []
  }
 ],
 "metadata": {
  "kernelspec": {
   "display_name": "Python 3",
   "language": "python",
   "name": "python3"
  },
  "language_info": {
   "codemirror_mode": {
    "name": "ipython",
    "version": 3
   },
   "file_extension": ".py",
   "mimetype": "text/x-python",
   "name": "python",
   "nbconvert_exporter": "python",
   "pygments_lexer": "ipython3",
   "version": "3.6.5"
  }
 },
 "nbformat": 4,
 "nbformat_minor": 2
}
