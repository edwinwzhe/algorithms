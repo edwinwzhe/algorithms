{
 "cells": [
  {
   "cell_type": "markdown",
   "metadata": {},
   "source": [
    "### Validate Binary Tree\n",
    "\n",
    "\n",
    "Leetcode: https://leetcode.com/problems/validate-binary-search-tree/submissions/"
   ]
  },
  {
   "cell_type": "markdown",
   "metadata": {},
   "source": [
    "**Algo**  \n",
    "The tricky bit is not to jump right into thinking \"all it needs is the validate if left.val < node.val < right.val\"  \n",
    "\n",
    "**Time** O(N) - N is num of nodes  \n",
    "**Space** O(1)  \n"
   ]
  },
  {
   "cell_type": "code",
   "execution_count": 2,
   "metadata": {},
   "outputs": [],
   "source": [
    "# Definition for a binary tree node.\n",
    "class TreeNode:\n",
    "    def __init__(self, x):\n",
    "        self.val = x\n",
    "        self.left = None\n",
    "        self.right = None\n",
    "\n",
    "class Solution:\n",
    "    def isValidBST(self, root: 'TreeNode', upper_bound=None, lower_bound=None) -> 'bool':\n",
    "        if root is None:\n",
    "            return True\n",
    "        elif lower_bound is not None and root.val <= lower_bound:\n",
    "            return False\n",
    "        elif upper_bound is not None and root.val >= upper_bound:\n",
    "            return False\n",
    "        \n",
    "        if root.left:\n",
    "            if root.val <= root.left.val:\n",
    "                return False\n",
    "            \n",
    "            if lower_bound and root.left.val <= lower_bound:\n",
    "                return False\n",
    "            \n",
    "            if not self.isValidBST(root.left, root.val, lower_bound):\n",
    "                return False\n",
    "            \n",
    "        if root.right:\n",
    "            if root.right.val <= root.val:\n",
    "                return False\n",
    "            \n",
    "            if upper_bound and upper_bound <= root.right.val:\n",
    "                return False\n",
    "                \n",
    "            return self.isValidBST(root.right, upper_bound, root.val)\n",
    "        \n",
    "        return True"
   ]
  },
  {
   "cell_type": "code",
   "execution_count": null,
   "metadata": {},
   "outputs": [],
   "source": []
  }
 ],
 "metadata": {
  "kernelspec": {
   "display_name": "Python 3",
   "language": "python",
   "name": "python3"
  },
  "language_info": {
   "codemirror_mode": {
    "name": "ipython",
    "version": 3
   },
   "file_extension": ".py",
   "mimetype": "text/x-python",
   "name": "python",
   "nbconvert_exporter": "python",
   "pygments_lexer": "ipython3",
   "version": "3.6.5"
  }
 },
 "nbformat": 4,
 "nbformat_minor": 2
}
