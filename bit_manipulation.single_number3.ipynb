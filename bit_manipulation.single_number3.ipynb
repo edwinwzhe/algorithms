{
 "cells": [
  {
   "cell_type": "markdown",
   "metadata": {},
   "source": [
    "### Single Number\n",
    "\n",
    "Given an array of numbers nums, in which exactly two elements appear only once and all the other elements appear exactly twice. Find the two elements that appear only once.\n",
    "\n",
    "Example:  \n",
    "\n",
    "Input:  [1,2,1,3,2,5]  \n",
    "Output: [3,5]  \n",
    "\n",
    "Note:  \n",
    "The order of the result is not important. So in the above example, [5, 3] is also correct.  \n",
    "Your algorithm should run in linear runtime complexity. Could you implement it using only constant space complexity?  \n",
    "\n",
    "Leetcode: https://leetcode.com/problems/single-number-iii/"
   ]
  },
  {
   "cell_type": "raw",
   "metadata": {},
   "source": [
    "There are a couple of algos if we don't consider the constrains. \n",
    "(1) stupid brute force - Time O(n^2), Space O(1)  \n",
    "(2) memorize the numbers - Time O(n), Space O(n)  \n",
    "(3) sort the numbers before iteration - Time O(n logn), Space O(1)  \n",
    "\n",
    "What algo could achieve Time O(n) and Space O(1) !?  \n",
    "Alright, I can't think of one. I did tried to look at the result of reduce(xor, input) but can't think of a use of it.  \n",
    "Looked for discussion and found a very smart solution:  \n",
    "(1) doing reduce(xor, input), the result of it is the xor of the two target numbers  \n",
    "(2) then remove higher order bits up to the last set bit, e.g. for 3 & 5 the xor is 6 (0b110) and get 0b10  \n",
    "(3) then use it to separate the two target numbers. As well as paired numbers into two groups.  \n",
    "(4) then redoing the xor in each group will get the two numbers  "
   ]
  },
  {
   "cell_type": "code",
   "execution_count": 8,
   "metadata": {},
   "outputs": [],
   "source": [
    "from functools import reduce\n",
    "from operator import xor\n",
    "\n",
    "class Solution:\n",
    "    def singleNumber(self, nums):\n",
    "        \"\"\"\n",
    "        :type nums: List[int]\n",
    "        :rtype: List[int]\n",
    "        \"\"\"\n",
    "        \n",
    "        xor_of_all = reduce(xor, nums)\n",
    "        \n",
    "        #remove til the last set bit\n",
    "        divider = xor_of_all & -xor_of_all\n",
    "        \n",
    "        target1 = target2 = 0\n",
    "        for num in nums:\n",
    "            if num & divider == 0:\n",
    "                target1 ^= num\n",
    "            else:\n",
    "                target2 ^= num\n",
    "        \n",
    "        return [target1, target2]\n",
    "                \n",
    "        \n",
    "        "
   ]
  },
  {
   "cell_type": "code",
   "execution_count": 9,
   "metadata": {},
   "outputs": [
    {
     "data": {
      "text/plain": [
       "[5, 3]"
      ]
     },
     "execution_count": 9,
     "metadata": {},
     "output_type": "execute_result"
    }
   ],
   "source": [
    "x = [1,2,1,3,2,5]\n",
    "\n",
    "Solution().singleNumber(x)"
   ]
  },
  {
   "cell_type": "code",
   "execution_count": null,
   "metadata": {},
   "outputs": [],
   "source": []
  }
 ],
 "metadata": {
  "kernelspec": {
   "display_name": "Python 3",
   "language": "python",
   "name": "python3"
  },
  "language_info": {
   "codemirror_mode": {
    "name": "ipython",
    "version": 3
   },
   "file_extension": ".py",
   "mimetype": "text/x-python",
   "name": "python",
   "nbconvert_exporter": "python",
   "pygments_lexer": "ipython3",
   "version": "3.6.5"
  }
 },
 "nbformat": 4,
 "nbformat_minor": 2
}
