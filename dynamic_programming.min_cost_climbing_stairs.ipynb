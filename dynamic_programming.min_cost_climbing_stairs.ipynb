{
 "cells": [
  {
   "cell_type": "markdown",
   "metadata": {},
   "source": [
    "### Min Cost Climbing Stairs\n",
    "\n",
    "On a staircase, the i-th step has some non-negative cost cost[i] assigned (0 indexed).\n",
    "\n",
    "Once you pay the cost, you can either climb one or two steps. You need to find minimum cost to reach the top of the floor, and you can either start from the step with index 0, or the step with index 1.\n",
    "\n",
    "Example 1:\n",
    "Input: cost = [10, 15, 20]\n",
    "Output: 15\n",
    "Explanation: Cheapest is start on cost[1], pay that cost and go to the top.\n",
    "\n",
    "Example 2:\n",
    "Input: cost = [1, 100, 1, 1, 1, 100, 1, 1, 100, 1]\n",
    "Output: 6\n",
    "Explanation: Cheapest is start on cost[0], and only step on 1s, skipping cost[3].\n",
    "\n",
    "Leetcode: https://leetcode.com/problems/min-cost-climbing-stairs/"
   ]
  },
  {
   "cell_type": "markdown",
   "metadata": {},
   "source": [
    "#### Approach 1\n",
    "Try every possible ways, this approach should produce correct result, but times out at leetcode. \n",
    "\n",
    "**Time Comlexity**: O(2^n) ? Like a fib without memoization"
   ]
  },
  {
   "cell_type": "code",
   "execution_count": 7,
   "metadata": {},
   "outputs": [],
   "source": [
    "def minCostClimbingStairs(cost):\n",
    "    \"\"\"\n",
    "    :type cost: List[int]\n",
    "    :rtype: int\n",
    "    \"\"\"\n",
    "    if len(cost) == 1:\n",
    "        return 0\n",
    "    elif len(cost) == 2:\n",
    "        return min(cost)\n",
    "    \n",
    "    step_up_1_cost = cost[0]+ minCostClimbingStairs(cost[1:])\n",
    "    step_up_2_cost = cost[1]+ minCostClimbingStairs(cost[2:])\n",
    "    return min(step_up_1_cost, step_up_2_cost)\n",
    "    \n",
    "assert minCostClimbingStairs([10, 15, 20]) == 15\n",
    "assert minCostClimbingStairs([1, 5, 1, 1, 10, 1]) == 4"
   ]
  },
  {
   "cell_type": "markdown",
   "metadata": {},
   "source": [
    "#### Approach 2 - use memoization\n",
    "Noticed the call stack of above approach would looks like:  \n",
    "[1, 5, 1, 1, 10, 1]  \n",
    "(1)[5, 1, 1, 10, 1] ------------------------ (5)[1, 1, 10, 1]  \n",
    "(1,5)[1, 1, 10, 1], (1,1)[1, 10, 1] ------- (5,1)[1, 10, 1], (5, 1)[10, 1]\n",
    "\n",
    "We can see a lot duplications here already.   \n",
    "So looks like we can cache the cost indexed by the remaining steps"
   ]
  },
  {
   "cell_type": "code",
   "execution_count": 30,
   "metadata": {},
   "outputs": [],
   "source": [
    "def minCostClimbingStairs(cost):\n",
    "    \"\"\"\n",
    "    :type cost: List[int]\n",
    "    :rtype: int\n",
    "    \"\"\"\n",
    "    def find_min_cost(start_idx):\n",
    "        if start_idx in memo:\n",
    "            return memo[start_idx]\n",
    "        \n",
    "        if len(cost) - start_idx == 1:\n",
    "            memo[start_idx] = 0\n",
    "            return 0\n",
    "        elif len(cost) - start_idx == 2:\n",
    "            min_cost = min(cost[-2:])\n",
    "            memo[start_idx] = min_cost\n",
    "            return min_cost\n",
    "    \n",
    "        step_up_1_cost = cost[start_idx]+ find_min_cost(start_idx + 1)\n",
    "        step_up_2_cost = cost[start_idx + 1]+ find_min_cost(start_idx + 2)\n",
    "        \n",
    "        min_cost = min(step_up_1_cost, step_up_2_cost)\n",
    "        memo[start_idx] = min_cost\n",
    "        return min_cost\n",
    "   \n",
    "    memo = {}\n",
    "    return find_min_cost(0)\n",
    "    \n",
    "#minCostClimbingStairs([1, 5, 1, 1, 10, 1]) == 4"
   ]
  },
  {
   "cell_type": "code",
   "execution_count": 31,
   "metadata": {},
   "outputs": [
    {
     "data": {
      "text/plain": [
       "15"
      ]
     },
     "execution_count": 31,
     "metadata": {},
     "output_type": "execute_result"
    }
   ],
   "source": [
    "minCostClimbingStairs([10, 15, 20])"
   ]
  },
  {
   "cell_type": "code",
   "execution_count": null,
   "metadata": {},
   "outputs": [],
   "source": []
  }
 ],
 "metadata": {
  "kernelspec": {
   "display_name": "Python 3",
   "language": "python",
   "name": "python3"
  },
  "language_info": {
   "codemirror_mode": {
    "name": "ipython",
    "version": 3
   },
   "file_extension": ".py",
   "mimetype": "text/x-python",
   "name": "python",
   "nbconvert_exporter": "python",
   "pygments_lexer": "ipython3",
   "version": "3.6.5"
  }
 },
 "nbformat": 4,
 "nbformat_minor": 2
}
