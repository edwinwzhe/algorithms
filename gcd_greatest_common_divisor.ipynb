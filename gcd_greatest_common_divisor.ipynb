{
 "cells": [
  {
   "cell_type": "markdown",
   "metadata": {},
   "source": [
    "## GCD - Greatest Common Divisor\n",
    "\n",
    "Euclidean Algorithm: https://en.wikipedia.org/wiki/Euclidean_algorithm"
   ]
  },
  {
   "cell_type": "code",
   "execution_count": 34,
   "metadata": {},
   "outputs": [
    {
     "data": {
      "text/plain": [
       "3"
      ]
     },
     "execution_count": 34,
     "metadata": {},
     "output_type": "execute_result"
    }
   ],
   "source": [
    "# Iteration Version\n",
    "\n",
    "def binaryGCD(a, b):\n",
    "    if a == b:\n",
    "        return a\n",
    "    elif a < b:\n",
    "        a, b = b, a # make sure a > b\n",
    "\n",
    "    while a % b != 0:\n",
    "        a, b = b, a % b\n",
    "\n",
    "    return b\n",
    "\n",
    "binaryGCD(24, 27)"
   ]
  },
  {
   "cell_type": "code",
   "execution_count": 35,
   "metadata": {},
   "outputs": [
    {
     "data": {
      "text/plain": [
       "3"
      ]
     },
     "execution_count": 35,
     "metadata": {},
     "output_type": "execute_result"
    }
   ],
   "source": [
    "# Recursive Version\n",
    "\n",
    "def binaryGCD(a, b):\n",
    "    if a < b:\n",
    "        a, b = b, a # make sure a > b\n",
    "    \n",
    "    if a % b == 0:\n",
    "        return b\n",
    "    \n",
    "    return binaryGCD(b, a % b)\n",
    "\n",
    "binaryGCD(24, 27)"
   ]
  },
  {
   "cell_type": "code",
   "execution_count": null,
   "metadata": {},
   "outputs": [],
   "source": []
  },
  {
   "cell_type": "code",
   "execution_count": null,
   "metadata": {},
   "outputs": [],
   "source": []
  }
 ],
 "metadata": {
  "kernelspec": {
   "display_name": "Python 3",
   "language": "python",
   "name": "python3"
  },
  "language_info": {
   "codemirror_mode": {
    "name": "ipython",
    "version": 3
   },
   "file_extension": ".py",
   "mimetype": "text/x-python",
   "name": "python",
   "nbconvert_exporter": "python",
   "pygments_lexer": "ipython3",
   "version": "3.7.2"
  }
 },
 "nbformat": 4,
 "nbformat_minor": 2
}
