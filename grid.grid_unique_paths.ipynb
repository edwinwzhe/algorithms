{
 "cells": [
  {
   "cell_type": "markdown",
   "metadata": {},
   "source": [
    "### Grid Unique Paths\n",
    "  \n",
    "**HOW TO CALC THE BIG O OF MY APPROACH**\n",
    "  \n",
    "InterviewBit: https://www.interviewbit.com/problems/grid-unique-paths/"
   ]
  },
  {
   "cell_type": "markdown",
   "metadata": {},
   "source": [
    "**Solution 1: Recursive**  \n",
    "  \n",
    "This is the most obvious approach.   \n",
    "The number of ways to get to point (x,y) is the same as the number of ways to (x-1, y) plus number of ways to (x, y-1).  \n",
    "The program calls itself recursively.  \n",
    "\n",
    "**Time**   \n",
    "O(2^(A+B))  <- correct?   \n",
    "O(2^max(A, B))  <- may be this???  \n",
    "*looking at it again drawing out the call stack, it seems it should be O(2^max(A, B)) instead, because the depth of the binary tree like call stack is equal to max(A, B)*   \n",
    "  \n",
    "**Space**  \n",
    "O(A+B)  <- correct?  \n"
   ]
  },
  {
   "cell_type": "code",
   "execution_count": 46,
   "metadata": {},
   "outputs": [],
   "source": [
    "class Solution:\n",
    "    # @param A : integer\n",
    "    # @param B : integer\n",
    "    # @return an integer\n",
    "    def uniquePaths(self, A, B):\n",
    "        #print(A, B)\n",
    "        if A > 1 and B == 1:\n",
    "            return 1\n",
    "        elif A == 1 and B > 1:\n",
    "            return 1\n",
    "        elif A == 1 and B == 1:\n",
    "            return 1\n",
    "        \n",
    "        return self.uniquePaths(A-1, B) + self.uniquePaths(A, B-1)"
   ]
  },
  {
   "cell_type": "code",
   "execution_count": 47,
   "metadata": {},
   "outputs": [
    {
     "data": {
      "text/plain": [
       "715"
      ]
     },
     "execution_count": 47,
     "metadata": {},
     "output_type": "execute_result"
    }
   ],
   "source": [
    "Solution().uniquePaths(10,5)"
   ]
  },
  {
   "cell_type": "markdown",
   "metadata": {},
   "source": [
    "**Solution 2: Recursive + Memoization**  \n",
    "  \n",
    "Adding memoization so each point is calculated at most once.\n",
    "\n",
    "**Time**  \n",
    "O(A\\*B)  \n",
    "**Space**   \n",
    "O(A+B)  <- correct?\n"
   ]
  },
  {
   "cell_type": "code",
   "execution_count": 48,
   "metadata": {},
   "outputs": [],
   "source": [
    "class Solution:\n",
    "    # @param A : integer\n",
    "    # @param B : integer\n",
    "    # @return an integer\n",
    "    def uniquePaths(self, A, B, memo=None):\n",
    "        if A > 1 and B == 1:\n",
    "            return 1\n",
    "        elif A == 1 and B > 1:\n",
    "            return 1\n",
    "        elif A == 1 and B == 1:\n",
    "            return 1\n",
    "        \n",
    "        if memo is None:\n",
    "            memo = {}\n",
    "        elif (A,B) in memo:\n",
    "            return memo[(A,B)]\n",
    "        \n",
    "        result = self.uniquePaths(A-1, B, memo) + self.uniquePaths(A, B-1, memo)\n",
    "        memo[(A,B)] = result\n",
    "        return result\n",
    "        "
   ]
  },
  {
   "cell_type": "code",
   "execution_count": 49,
   "metadata": {},
   "outputs": [
    {
     "data": {
      "text/plain": [
       "715"
      ]
     },
     "execution_count": 49,
     "metadata": {},
     "output_type": "execute_result"
    }
   ],
   "source": [
    "Solution().uniquePaths(10,5)"
   ]
  },
  {
   "cell_type": "code",
   "execution_count": null,
   "metadata": {},
   "outputs": [],
   "source": []
  }
 ],
 "metadata": {
  "kernelspec": {
   "display_name": "Python 3",
   "language": "python",
   "name": "python3"
  },
  "language_info": {
   "codemirror_mode": {
    "name": "ipython",
    "version": 3
   },
   "file_extension": ".py",
   "mimetype": "text/x-python",
   "name": "python",
   "nbconvert_exporter": "python",
   "pygments_lexer": "ipython3",
   "version": "3.6.5"
  }
 },
 "nbformat": 4,
 "nbformat_minor": 2
}
