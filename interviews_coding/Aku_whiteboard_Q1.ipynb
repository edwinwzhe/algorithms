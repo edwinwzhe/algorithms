{
 "cells": [
  {
   "cell_type": "markdown",
   "metadata": {},
   "source": [
    "### Flatten Nested Lists"
   ]
  },
  {
   "cell_type": "code",
   "execution_count": 2,
   "metadata": {},
   "outputs": [
    {
     "name": "stdout",
     "output_type": "stream",
     "text": [
      "['a', 'b', 'c', 'd', 'e', 'f', 'g', 'h', 'i', 'j', 'k', 'l', 'm', 'n', 'o', 'p']\n"
     ]
    }
   ],
   "source": [
    "# Solution 1: not scalable - constructs list in memory, won't work for a long list\n",
    "\n",
    "lol = [['a'],['b', 'c', ['d', 'e', ['f', 'g']]],'h', [['i'], ['j', 'k', 'l'], 'm', 'n', [[['o'], 'p']]]]\n",
    "\n",
    "def flatten(lol):\n",
    "    #print(lol)\n",
    "    result = []\n",
    "    \n",
    "    if isinstance(lol, str):\n",
    "        return [lol]\n",
    "    \n",
    "    for elem in lol:\n",
    "        result += flatten(elem)\n",
    "            \n",
    "    return result\n",
    "\n",
    "print(flatten(lol))"
   ]
  },
  {
   "cell_type": "code",
   "execution_count": 3,
   "metadata": {},
   "outputs": [
    {
     "name": "stdout",
     "output_type": "stream",
     "text": [
      "['a', 'b', 'c', 'd', 'e', 'f', 'g', 'h', 'i', 'j', 'k', 'l', 'm', 'n', 'o', 'p']\n"
     ]
    }
   ],
   "source": [
    "# Solution 2: scalable - with generator\n",
    "\n",
    "lol = [['a'],['b', 'c', ['d', 'e', ['f', 'g']]],'h', [['i'], ['j', 'k', 'l'], 'm', 'n', [[['o'], 'p']]]]\n",
    "\n",
    "def flatten(lol):\n",
    "    #result = []\n",
    "    if isinstance(lol, str):\n",
    "        yield lol\n",
    "    else:\n",
    "        for elem in lol:\n",
    "            yield from flatten(elem)\n",
    "            \n",
    "print(list(flatten(lol)))"
   ]
  },
  {
   "cell_type": "code",
   "execution_count": null,
   "metadata": {},
   "outputs": [],
   "source": []
  }
 ],
 "metadata": {
  "kernelspec": {
   "display_name": "Python 3",
   "language": "python",
   "name": "python3"
  },
  "language_info": {
   "codemirror_mode": {
    "name": "ipython",
    "version": 3
   },
   "file_extension": ".py",
   "mimetype": "text/x-python",
   "name": "python",
   "nbconvert_exporter": "python",
   "pygments_lexer": "ipython3",
   "version": "3.6.5"
  }
 },
 "nbformat": 4,
 "nbformat_minor": 2
}
