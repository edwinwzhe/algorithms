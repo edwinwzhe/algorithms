{
 "cells": [
  {
   "cell_type": "markdown",
   "metadata": {},
   "source": [
    "### Find nearest K restarants\n",
    "Given restarants coordinates - find out the nearest k \n",
    "Distance is calculated by sqrt(x**2 + y**2)"
   ]
  },
  {
   "cell_type": "code",
   "execution_count": 1,
   "metadata": {},
   "outputs": [],
   "source": [
    "total = 4\n",
    "distances = [[1,2], [3,4], [-1, -2], [5,6]]\n",
    "k = 3"
   ]
  },
  {
   "cell_type": "code",
   "execution_count": 5,
   "metadata": {},
   "outputs": [
    {
     "data": {
      "text/plain": [
       "[[1, 2], [-1, -2], [3, 4]]"
      ]
     },
     "execution_count": 5,
     "metadata": {},
     "output_type": "execute_result"
    }
   ],
   "source": [
    "# Solution 1\n",
    "# Time: O(N logN)\n",
    "# Space: O(N)\n",
    "\n",
    "from collections import defaultdict\n",
    "\n",
    "def find_nearest(total, distances, k):\n",
    "    # hasmap - space + O(N)\n",
    "    dist_map = defaultdict(list)\n",
    "    \n",
    "    # for loop - time + O(N)\n",
    "    for loc in distances:\n",
    "        x, y = loc\n",
    "        \n",
    "        dist = x**2 + y**2\n",
    "        dist_map[dist].append(loc)\n",
    "        \n",
    "    # Sorting. time + O(N LogN)\n",
    "    sorted_dist = sorted(dist_map.keys())\n",
    "    \n",
    "    short = k\n",
    "    result = []\n",
    "    \n",
    "    # interate distances. \n",
    "    # worst case no overlap distance and k == total, time + O(N)\n",
    "    for dist in sorted_dist:\n",
    "        result.extend(dist_map[dist][:short])\n",
    "        \n",
    "        short = k - len(result)\n",
    "    \n",
    "    return result\n",
    "\n",
    "\n",
    "find_nearest(total, distances, k)"
   ]
  },
  {
   "cell_type": "code",
   "execution_count": null,
   "metadata": {},
   "outputs": [],
   "source": []
  }
 ],
 "metadata": {
  "kernelspec": {
   "display_name": "Python 3",
   "language": "python",
   "name": "python3"
  },
  "language_info": {
   "codemirror_mode": {
    "name": "ipython",
    "version": 3
   },
   "file_extension": ".py",
   "mimetype": "text/x-python",
   "name": "python",
   "nbconvert_exporter": "python",
   "pygments_lexer": "ipython3",
   "version": "3.7.2"
  }
 },
 "nbformat": 4,
 "nbformat_minor": 2
}
