{
 "cells": [
  {
   "cell_type": "markdown",
   "metadata": {},
   "source": [
    "### First Missing Interger\n",
    "\n",
    "InterviewBit: https://www.interviewbit.com/problems/first-missing-integer/\n",
    "\n",
    "Requires Time Complexity O(N), and Space Complexity O(1)"
   ]
  },
  {
   "cell_type": "markdown",
   "metadata": {},
   "source": [
    "### Approach 1  \n",
    "  \n",
    "The approach is to use the array A itself for marking to save space.   \n",
    "1st - turn all negative numbers in the list to 0 - because they do not matter. \n",
    "     \n",
    "2nd - start from idx 0, scan through the list once and use '-1' as the 'seen' marker.  \n",
    "      e.g. seeing val 3 will mark A[3-1] = -1.  \n",
    "      Because it overwrites value in A[2], we check whats in A[2] first before  \n",
    "      overwritting. If A[2] is 0, its' free for marking, if -1, we have seen it   \n",
    "      before, and we can move to the next index. If A[2] > 0, we need to keep its value  \n",
    "      before marking it -1 and check it(next_val) instead of the next idx, which may  \n",
    "      trigger chain effect.\n",
    "  \n",
    "Step 1 - Time Complexity is O(N), Space Complexity is O(1)  \n",
    "Step 2 - The worse scenario is iterating the list twice O(2N) when the chain effect iterates  \n",
    "         the list once and the counter iterates it again. And Space Complexity is O(1)  \n",
    "         as ops are inplace.  \n",
    "In summary:\n",
    "Time Complexity: O(3N) = O(N)  \n",
    "Space Complexity: O(1)\n"
   ]
  },
  {
   "cell_type": "code",
   "execution_count": 20,
   "metadata": {},
   "outputs": [],
   "source": [
    "class Solution:\n",
    "    # @param A : list of integers\n",
    "    # @return an integer\n",
    "    def firstMissingPositive(self, A):\n",
    "        # 1st - turn the array to a positive array \n",
    "        # Time: O(N),  Space: O(1)\n",
    "        for i in range(len(A)):\n",
    "            if A[i] < 0:\n",
    "                A[i] = 0 \n",
    "        \n",
    "        # 2nd - use -1 as the 'seen' flag\n",
    "        idx = 0\n",
    "        next_val = None\n",
    "        \n",
    "        # Time: O(N), Space O(1) \n",
    "        while True:\n",
    "            print(A, idx, next_val)\n",
    "            if next_val is None and idx >= len(A):\n",
    "                break\n",
    "            \n",
    "            if next_val is None:\n",
    "                val = A[idx]\n",
    "            else:\n",
    "                val = next_val\n",
    "                next_val = None\n",
    "            \n",
    "            if val <= 0:\n",
    "                idx += 1\n",
    "                continue\n",
    "                \n",
    "            if val > len(A):\n",
    "                idx += 1\n",
    "                continue\n",
    "            \n",
    "            if A[val - 1] == 0:\n",
    "                # mark as 'seen' and no chain ops needed\n",
    "                A[val - 1] = -1\n",
    "                idx += 1\n",
    "                continue\n",
    "            elif A[val - 1] == -1:\n",
    "                # has seen it before, skip to next idx...\n",
    "                idx += 1\n",
    "                continue\n",
    "            \n",
    "            # otherwise - requires chain ops\n",
    "            next_val = A[val - 1]\n",
    "            A[val - 1] = -1  # flag 'seen' \n",
    "            \n",
    "        for i in range(len(A)):\n",
    "            if A[i] >= 0:\n",
    "                return i+1\n",
    "        \n",
    "        return len(A) + 1\n"
   ]
  },
  {
   "cell_type": "code",
   "execution_count": 17,
   "metadata": {},
   "outputs": [
    {
     "name": "stdout",
     "output_type": "stream",
     "text": [
      "[1, 2, 3] 0 None\n",
      "[-1, 2, 3] 0 1\n",
      "[-1, 2, 3] 1 None\n",
      "[-1, -1, 3] 1 2\n",
      "[-1, -1, 3] 2 None\n",
      "[-1, -1, -1] 2 3\n",
      "[-1, -1, -1] 3 None\n"
     ]
    },
    {
     "data": {
      "text/plain": [
       "4"
      ]
     },
     "execution_count": 17,
     "metadata": {},
     "output_type": "execute_result"
    }
   ],
   "source": [
    "Solution().firstMissingPositive([1,2,3])"
   ]
  },
  {
   "cell_type": "code",
   "execution_count": 18,
   "metadata": {},
   "outputs": [
    {
     "name": "stdout",
     "output_type": "stream",
     "text": [
      "[0, 0, 0, 1, 1] 0 None\n",
      "[0, 0, 0, 1, 1] 1 None\n",
      "[0, 0, 0, 1, 1] 2 None\n",
      "[0, 0, 0, 1, 1] 3 None\n",
      "[-1, 0, 0, 1, 1] 4 None\n",
      "[-1, 0, 0, 1, 1] 5 None\n"
     ]
    },
    {
     "data": {
      "text/plain": [
       "2"
      ]
     },
     "execution_count": 18,
     "metadata": {},
     "output_type": "execute_result"
    }
   ],
   "source": [
    "Solution().firstMissingPositive([-1,0, 0,1,1])"
   ]
  },
  {
   "cell_type": "code",
   "execution_count": 19,
   "metadata": {},
   "outputs": [
    {
     "name": "stdout",
     "output_type": "stream",
     "text": [
      "[0, 0, 0, 0] 0 None\n",
      "[0, 0, 0, 0] 1 None\n",
      "[0, 0, 0, 0] 2 None\n",
      "[0, 0, 0, 0] 3 None\n",
      "[0, 0, 0, 0] 4 None\n"
     ]
    },
    {
     "data": {
      "text/plain": [
       "1"
      ]
     },
     "execution_count": 19,
     "metadata": {},
     "output_type": "execute_result"
    }
   ],
   "source": [
    "Solution().firstMissingPositive([-1,-1, -2,-3])"
   ]
  },
  {
   "cell_type": "code",
   "execution_count": null,
   "metadata": {},
   "outputs": [],
   "source": []
  }
 ],
 "metadata": {
  "kernelspec": {
   "display_name": "Python 3",
   "language": "python",
   "name": "python3"
  },
  "language_info": {
   "codemirror_mode": {
    "name": "ipython",
    "version": 3
   },
   "file_extension": ".py",
   "mimetype": "text/x-python",
   "name": "python",
   "nbconvert_exporter": "python",
   "pygments_lexer": "ipython3",
   "version": "3.6.5"
  }
 },
 "nbformat": 4,
 "nbformat_minor": 2
}
