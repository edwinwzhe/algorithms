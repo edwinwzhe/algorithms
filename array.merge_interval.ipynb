{
 "cells": [
  {
   "cell_type": "markdown",
   "metadata": {},
   "source": [
    "### Merge Interval\n",
    "\n",
    "InterviewBit: https://www.interviewbit.com/problems/merge-intervals/"
   ]
  },
  {
   "cell_type": "markdown",
   "metadata": {},
   "source": [
    "#### Solution 1  \n",
    "Before the new_interval being inserted or merged, keep adding disjoin interval on the left to the result list. \n",
    "\n",
    "\n",
    "**Time Complexity**  \n",
    "O(N) - each interval is visited exactly once   \n",
    "\n",
    "**Space Complexity**  \n",
    "O(N) - for the result_interval"
   ]
  },
  {
   "cell_type": "code",
   "execution_count": 88,
   "metadata": {},
   "outputs": [],
   "source": [
    "# Definition for an interval.\n",
    "class Interval:\n",
    "    def __init__(self, s=0, e=0):\n",
    "        self.start = s\n",
    "        self.end = e\n",
    "    def __repr__(self):\n",
    "        return \"Interval(%s, %s)\" % (self.start, self.end)\n",
    "\n",
    "class Solution:\n",
    "    def insert(self, intervals, new_interval):\n",
    "        result_intervals = []\n",
    "        merged = False\n",
    "        \n",
    "        if new_interval.start > new_interval.end:\n",
    "            new_interval.end, new_interval.start = new_interval.start, new_interval.end\n",
    "        \n",
    "        idx = 0\n",
    "        for interval in intervals:\n",
    "            idx += 1\n",
    "            print('In ', intervals, result_intervals, merged, new_interval)\n",
    "            \n",
    "            if not merged:\n",
    "                if interval.end < new_interval.start:\n",
    "                    # outside - right\n",
    "                    result_intervals.append(interval)\n",
    "                elif new_interval.end < interval.start:\n",
    "                    result_intervals.append(new_interval)\n",
    "                    result_intervals.append(interval)\n",
    "                    merged = True\n",
    "                    break\n",
    "                else:\n",
    "                    merged_start = min(interval.start, new_interval.start)\n",
    "                    merged_end = max(interval.end, new_interval.end)\n",
    "                    merged = True\n",
    "                    result_intervals.append(Interval(merged_start, merged_end))\n",
    "            else:\n",
    "                # compare with last instead\n",
    "                last = result_intervals[-1]\n",
    "                \n",
    "                if interval.end <= last.end:\n",
    "                    # included - skip\n",
    "                    pass\n",
    "                elif last.end < interval.start:\n",
    "                    result_intervals.append(interval)\n",
    "                    break\n",
    "                else:\n",
    "                    # intersect - extend the last\n",
    "                    last.end = interval.end\n",
    "                    \n",
    "            print('Out', intervals, result_intervals, merged, new_interval)\n",
    "                    \n",
    "        if merged:\n",
    "            result_intervals.extend(intervals[idx:])\n",
    "        else:\n",
    "            result_intervals.append(new_interval)\n",
    "        return result_intervals\n"
   ]
  },
  {
   "cell_type": "code",
   "execution_count": 89,
   "metadata": {},
   "outputs": [
    {
     "name": "stdout",
     "output_type": "stream",
     "text": [
      "In  [Interval(1, 3), Interval(4, 5)] [] False Interval(3, 5)\n",
      "Out [Interval(1, 3), Interval(4, 5)] [Interval(1, 5)] True Interval(3, 5)\n",
      "In  [Interval(1, 3), Interval(4, 5)] [Interval(1, 5)] True Interval(3, 5)\n",
      "Out [Interval(1, 3), Interval(4, 5)] [Interval(1, 5)] True Interval(3, 5)\n"
     ]
    },
    {
     "data": {
      "text/plain": [
       "[Interval(1, 5)]"
      ]
     },
     "execution_count": 89,
     "metadata": {},
     "output_type": "execute_result"
    }
   ],
   "source": [
    "Solution().insert([Interval(1, 3), Interval(4, 5)], Interval(3, 5))"
   ]
  },
  {
   "cell_type": "code",
   "execution_count": 90,
   "metadata": {},
   "outputs": [
    {
     "name": "stdout",
     "output_type": "stream",
     "text": [
      "In  [Interval(1, 2), Interval(3, 6)] [] False Interval(8, 10)\n",
      "Out [Interval(1, 2), Interval(3, 6)] [Interval(1, 2)] False Interval(8, 10)\n",
      "In  [Interval(1, 2), Interval(3, 6)] [Interval(1, 2)] False Interval(8, 10)\n",
      "Out [Interval(1, 2), Interval(3, 6)] [Interval(1, 2), Interval(3, 6)] False Interval(8, 10)\n"
     ]
    },
    {
     "data": {
      "text/plain": [
       "[Interval(1, 2), Interval(3, 6), Interval(8, 10)]"
      ]
     },
     "execution_count": 90,
     "metadata": {},
     "output_type": "execute_result"
    }
   ],
   "source": [
    "Solution().insert([Interval(1, 2), Interval(3, 6)], Interval(10, 8))"
   ]
  },
  {
   "cell_type": "code",
   "execution_count": 91,
   "metadata": {},
   "outputs": [
    {
     "name": "stdout",
     "output_type": "stream",
     "text": [
      "In  [Interval(1, 2), Interval(4, 6), Interval(8, 11)] [] False Interval(3, 7)\n",
      "Out [Interval(1, 2), Interval(4, 6), Interval(8, 11)] [Interval(1, 2)] False Interval(3, 7)\n",
      "In  [Interval(1, 2), Interval(4, 6), Interval(8, 11)] [Interval(1, 2)] False Interval(3, 7)\n",
      "Out [Interval(1, 2), Interval(4, 6), Interval(8, 11)] [Interval(1, 2), Interval(3, 7)] True Interval(3, 7)\n",
      "In  [Interval(1, 2), Interval(4, 6), Interval(8, 11)] [Interval(1, 2), Interval(3, 7)] True Interval(3, 7)\n"
     ]
    },
    {
     "data": {
      "text/plain": [
       "[Interval(1, 2), Interval(3, 7), Interval(8, 11)]"
      ]
     },
     "execution_count": 91,
     "metadata": {},
     "output_type": "execute_result"
    }
   ],
   "source": [
    "Solution().insert([Interval(1, 2), Interval(4, 6), Interval(8, 11)], Interval(3, 7))"
   ]
  },
  {
   "cell_type": "code",
   "execution_count": null,
   "metadata": {},
   "outputs": [],
   "source": []
  },
  {
   "cell_type": "code",
   "execution_count": null,
   "metadata": {},
   "outputs": [],
   "source": []
  },
  {
   "cell_type": "code",
   "execution_count": null,
   "metadata": {},
   "outputs": [],
   "source": []
  }
 ],
 "metadata": {
  "kernelspec": {
   "display_name": "Python 3",
   "language": "python",
   "name": "python3"
  },
  "language_info": {
   "codemirror_mode": {
    "name": "ipython",
    "version": 3
   },
   "file_extension": ".py",
   "mimetype": "text/x-python",
   "name": "python",
   "nbconvert_exporter": "python",
   "pygments_lexer": "ipython3",
   "version": "3.6.5"
  }
 },
 "nbformat": 4,
 "nbformat_minor": 2
}
