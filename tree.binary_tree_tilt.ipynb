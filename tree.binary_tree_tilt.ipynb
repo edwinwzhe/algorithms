{
 "cells": [
  {
   "cell_type": "markdown",
   "metadata": {},
   "source": [
    "### Binary Tree Tilt\n",
    "\n",
    "Given a binary tree, return the tilt of the whole tree.\n",
    "\n",
    "The tilt of a tree node is defined as the absolute difference between the sum of all left subtree node values and the sum of all right subtree node values. Null node has tilt 0.\n",
    "\n",
    "The tilt of the whole tree is defined as the sum of all nodes' tilt.\n",
    "\n",
    "Leetcode: https://leetcode.com/problems/binary-tree-tilt/"
   ]
  },
  {
   "cell_type": "markdown",
   "metadata": {},
   "source": [
    "#### Approach 1\n",
    "\n",
    "We need to calculate the tilt of every node - which can be done by cummulating tilt of nodes every time we reach a new node (not in cache)\n",
    "  \n",
    "**Time Complexity**   \n",
    "N: number of nodes  \n",
    "O(N) - each node is iterated once  \n",
    "  \n",
    "**Space Complexity**  \n",
    "O(N) - for the memo  "
   ]
  },
  {
   "cell_type": "code",
   "execution_count": 20,
   "metadata": {},
   "outputs": [],
   "source": [
    "class TreeNode:\n",
    "    def __init__(self, x):\n",
    "        self.val = x\n",
    "        self.left = None\n",
    "        self.right = None\n",
    "\n",
    "def findTilt(root):\n",
    "    \"\"\"\n",
    "    :type root: TreeNode\n",
    "    :rtype: int\n",
    "    \"\"\"\n",
    "    if not root:\n",
    "        return 0\n",
    "\n",
    "    total_tilt = 0\n",
    "\n",
    "    def calc_sum(node):\n",
    "        nonlocal total_tilt\n",
    "\n",
    "        if node is None:\n",
    "            return 0\n",
    "\n",
    "        # recursively calculate sum of subnodes\n",
    "        left_sum = calc_sum(node.left)\n",
    "        right_sum = calc_sum(node.right)\n",
    "\n",
    "        total_tilt += abs(left_sum - right_sum)\n",
    "        return left_sum + node.val + right_sum\n",
    "\n",
    "    calc_sum(root)\n",
    "    return total_tilt"
   ]
  },
  {
   "cell_type": "code",
   "execution_count": 21,
   "metadata": {},
   "outputs": [
    {
     "data": {
      "text/plain": [
       "11"
      ]
     },
     "execution_count": 21,
     "metadata": {},
     "output_type": "execute_result"
    }
   ],
   "source": [
    "n1 = TreeNode(1)\n",
    "n2 = TreeNode(2)\n",
    "n2.left = TreeNode(4)\n",
    "n3 = TreeNode(3)\n",
    "n3.left = TreeNode(5)\n",
    "n1.left = n2 \n",
    "n1.right = n3\n",
    "\n",
    "findTilt(n1)"
   ]
  },
  {
   "cell_type": "code",
   "execution_count": 7,
   "metadata": {},
   "outputs": [
    {
     "data": {
      "text/plain": [
       "{<__main__.TreeNode at 0x7070d710>: 1}"
      ]
     },
     "execution_count": 7,
     "metadata": {},
     "output_type": "execute_result"
    }
   ],
   "source": []
  },
  {
   "cell_type": "code",
   "execution_count": null,
   "metadata": {},
   "outputs": [],
   "source": []
  }
 ],
 "metadata": {
  "kernelspec": {
   "display_name": "Python 3",
   "language": "python",
   "name": "python3"
  },
  "language_info": {
   "codemirror_mode": {
    "name": "ipython",
    "version": 3
   },
   "file_extension": ".py",
   "mimetype": "text/x-python",
   "name": "python",
   "nbconvert_exporter": "python",
   "pygments_lexer": "ipython3",
   "version": "3.6.5"
  }
 },
 "nbformat": 4,
 "nbformat_minor": 2
}
