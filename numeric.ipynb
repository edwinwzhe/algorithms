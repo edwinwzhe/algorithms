{
 "cells": [
  {
   "cell_type": "markdown",
   "metadata": {},
   "source": [
    "#### sqrt(n) round down to the nearest int without using sqrt\n",
    "\n",
    "Solution: binary search"
   ]
  },
  {
   "cell_type": "code",
   "execution_count": 67,
   "metadata": {},
   "outputs": [],
   "source": [
    "def sqrt_round_down(n):\n",
    "    if n < 4:\n",
    "        return 1\n",
    "    \n",
    "    low = 1\n",
    "    high = n // 2 + 1\n",
    "    \n",
    "    while low + 1 < high:\n",
    "        mid = (high + low) // 2 \n",
    "        #print(low, high, mid)\n",
    "        \n",
    "        square = mid ** 2\n",
    "        \n",
    "        if square == n:\n",
    "            return mid\n",
    "        elif square < n:\n",
    "            low = mid\n",
    "        else:\n",
    "            high = mid\n",
    "            \n",
    "    return low"
   ]
  },
  {
   "cell_type": "code",
   "execution_count": 68,
   "metadata": {},
   "outputs": [
    {
     "data": {
      "text/plain": [
       "[(1, 1), (2, 1), (3, 1), (4, 2), (5, 2), (6, 2), (7, 2), (8, 2), (9, 3)]"
      ]
     },
     "execution_count": 68,
     "metadata": {},
     "output_type": "execute_result"
    }
   ],
   "source": [
    "[(i, sqrt_round_down(i)) for i in range(1, 10)]"
   ]
  },
  {
   "cell_type": "markdown",
   "metadata": {},
   "source": [
    "#### find the largest product of 3 numbers in the list"
   ]
  },
  {
   "cell_type": "code",
   "execution_count": 72,
   "metadata": {},
   "outputs": [],
   "source": [
    "def largest_product(arr):\n",
    "    arr.sort()\n",
    "    product_smallest_2 = arr[0] * arr[1] * arr[-1]\n",
    "    product_largest_3 = arr[-3] * arr[-2] * arr[-1]\n",
    "    \n",
    "    return max(product_smallest_2, product_largest_3)\n",
    "    "
   ]
  },
  {
   "cell_type": "code",
   "execution_count": 77,
   "metadata": {},
   "outputs": [],
   "source": [
    "assert largest_product([-5, -5, 1, 3]) == 75\n",
    "assert largest_product([-1, -2, -3, -4]) == -6\n",
    "assert largest_product([-1, 2, 3, 4]) == 24"
   ]
  },
  {
   "cell_type": "code",
   "execution_count": null,
   "metadata": {},
   "outputs": [],
   "source": []
  }
 ],
 "metadata": {
  "kernelspec": {
   "display_name": "General Purpose Py37",
   "language": "python",
   "name": "general_purpose_37"
  },
  "language_info": {
   "codemirror_mode": {
    "name": "ipython",
    "version": 3
   },
   "file_extension": ".py",
   "mimetype": "text/x-python",
   "name": "python",
   "nbconvert_exporter": "python",
   "pygments_lexer": "ipython3",
   "version": "3.7.2"
  }
 },
 "nbformat": 4,
 "nbformat_minor": 2
}
