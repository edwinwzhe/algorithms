{
 "cells": [
  {
   "cell_type": "markdown",
   "metadata": {},
   "source": [
    "### Find the square root of x \n",
    "\n",
    "Without using sqrt(x) or pow(x, .5), round down to nearest integer, e.g. mySqrt(8) -> 2\n",
    "\n",
    "Leetcode: https://leetcode.com/problems/sqrtx/"
   ]
  },
  {
   "cell_type": "code",
   "execution_count": 1,
   "metadata": {},
   "outputs": [],
   "source": [
    "def mySqrt(x):\n",
    "    \"\"\"\n",
    "    :type x: int\n",
    "    :rtype: int\n",
    "    \"\"\"\n",
    "    if x == 0:\n",
    "        return 0\n",
    "    elif x < 4:\n",
    "        return 1\n",
    "\n",
    "    # sqrt(x) <= x/2 - do binary search from 2 to x//2\n",
    "\n",
    "    low = 2\n",
    "    high = x // 2\n",
    "\n",
    "    while low < high:\n",
    "        # add 1 to mid because if mid ** 2 > x, mid can be excluded, but \n",
    "        # mid ** 2 < x cannot be excluded. \n",
    "        # e.g when low + 1 == high, mid should be == high so we can tighten the high to high - 1\n",
    "        # otherwise if mid == low, and mid ** 2 < x, mid cannot be exluded, thus causing infinite loop\n",
    "        mid = (high + low) // 2 + 1\n",
    "\n",
    "        if mid ** 2 == x:\n",
    "            return mid\n",
    "        elif mid ** 2 < x:\n",
    "            # mid could still be the answer\n",
    "            # so don't do low = mid + 1 like in binary search\n",
    "            low = mid   \n",
    "        else:\n",
    "            # mid ** 2 > x - so mid won't be the answer\n",
    "            # so we do high = mid - 1\n",
    "            high = mid - 1\n",
    "\n",
    "    return low"
   ]
  },
  {
   "cell_type": "code",
   "execution_count": 2,
   "metadata": {},
   "outputs": [
    {
     "name": "stdout",
     "output_type": "stream",
     "text": [
      "[(0, 0), (1, 1), (2, 1), (3, 1), (4, 2), (5, 2), (6, 2), (7, 2), (8, 2), (9, 3), (10, 3), (11, 3), (12, 3), (13, 3), (14, 3), (15, 3), (16, 4)]\n"
     ]
    }
   ],
   "source": [
    "print(list(zip(range(17), list(map(mySqrt, range(17))))))"
   ]
  },
  {
   "cell_type": "code",
   "execution_count": null,
   "metadata": {},
   "outputs": [],
   "source": []
  }
 ],
 "metadata": {
  "kernelspec": {
   "display_name": "Python 3",
   "language": "python",
   "name": "python3"
  },
  "language_info": {
   "codemirror_mode": {
    "name": "ipython",
    "version": 3
   },
   "file_extension": ".py",
   "mimetype": "text/x-python",
   "name": "python",
   "nbconvert_exporter": "python",
   "pygments_lexer": "ipython3",
   "version": "3.6.5"
  }
 },
 "nbformat": 4,
 "nbformat_minor": 2
}
