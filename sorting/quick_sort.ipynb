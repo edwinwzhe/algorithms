{
 "cells": [
  {
   "cell_type": "markdown",
   "metadata": {},
   "source": [
    "# Quick Sort\n",
    "\n",
    "[Quick Sort - pivot and stored index](#quick_sort_pivot_and_store_index)  \n",
    "\n",
    "#### Time Complexity\n",
    "Best - O(n logn)  \n",
    "Average - O(n logn)  \n",
    "Worse - O(n^2)  \n",
    "\n",
    "#### Algo\n",
    "Divide and conquer is the what quick sort does. It uses the first elem in the partition as the pivot then scans through the entire partition to divide it into two smaller partitions, on the left are the values <= pivot, on the right are values > pivot. Then recursively pass the two sub-partitions into the same process.  \n",
    "\n",
    "### Referece\n",
    "* Visualgo: https://visualgo.net/en/sorting\n",
    "* Toptal: https://www.toptal.com/developers/sorting-algorithms\n"
   ]
  },
  {
   "cell_type": "code",
   "execution_count": 2,
   "metadata": {},
   "outputs": [],
   "source": [
    "import logging \n",
    "from random import shuffle\n",
    "\n",
    "logging.basicConfig(level=logging.DEBUG, format='%(message)s')"
   ]
  },
  {
   "cell_type": "markdown",
   "metadata": {},
   "source": [
    "<a id='quick_sort_1'></a>\n",
    "## Quick Sort 1\n",
    "https://www.youtube.com/watch?v=SLauY6PpjW4\n",
    "by Gayle Laakmann McDowell"
   ]
  },
  {
   "cell_type": "code",
   "execution_count": 1,
   "metadata": {},
   "outputs": [
    {
     "ename": "NameError",
     "evalue": "name 'shuffle' is not defined",
     "output_type": "error",
     "traceback": [
      "\u001b[0;31m---------------------------------------------------------------------------\u001b[0m",
      "\u001b[0;31mNameError\u001b[0m                                 Traceback (most recent call last)",
      "\u001b[0;32m<ipython-input-1-6febd436cf36>\u001b[0m in \u001b[0;36m<module>\u001b[0;34m\u001b[0m\n\u001b[1;32m      1\u001b[0m \u001b[0;34m\u001b[0m\u001b[0m\n\u001b[1;32m      2\u001b[0m \u001b[0mdata\u001b[0m \u001b[0;34m=\u001b[0m \u001b[0;34m[\u001b[0m\u001b[0;36m2\u001b[0m\u001b[0;34m,\u001b[0m \u001b[0;36m3\u001b[0m\u001b[0;34m,\u001b[0m \u001b[0;36m4\u001b[0m\u001b[0;34m,\u001b[0m \u001b[0;36m5\u001b[0m\u001b[0;34m,\u001b[0m \u001b[0;36m15\u001b[0m\u001b[0;34m,\u001b[0m \u001b[0;36m19\u001b[0m\u001b[0;34m,\u001b[0m \u001b[0;36m26\u001b[0m\u001b[0;34m,\u001b[0m \u001b[0;36m27\u001b[0m\u001b[0;34m,\u001b[0m \u001b[0;36m36\u001b[0m\u001b[0;34m,\u001b[0m \u001b[0;36m38\u001b[0m\u001b[0;34m,\u001b[0m \u001b[0;36m44\u001b[0m\u001b[0;34m,\u001b[0m \u001b[0;36m46\u001b[0m\u001b[0;34m,\u001b[0m \u001b[0;36m47\u001b[0m\u001b[0;34m,\u001b[0m \u001b[0;36m48\u001b[0m\u001b[0;34m,\u001b[0m \u001b[0;36m50\u001b[0m\u001b[0;34m]\u001b[0m\u001b[0;34m\u001b[0m\u001b[0;34m\u001b[0m\u001b[0m\n\u001b[0;32m----> 3\u001b[0;31m \u001b[0mshuffle\u001b[0m\u001b[0;34m(\u001b[0m\u001b[0mdata\u001b[0m\u001b[0;34m)\u001b[0m\u001b[0;34m\u001b[0m\u001b[0;34m\u001b[0m\u001b[0m\n\u001b[0m\u001b[1;32m      4\u001b[0m \u001b[0;34m\u001b[0m\u001b[0m\n\u001b[1;32m      5\u001b[0m \u001b[0;32mdef\u001b[0m \u001b[0mquick_sort\u001b[0m\u001b[0;34m(\u001b[0m\u001b[0marr\u001b[0m\u001b[0;34m)\u001b[0m\u001b[0;34m:\u001b[0m\u001b[0;34m\u001b[0m\u001b[0;34m\u001b[0m\u001b[0m\n",
      "\u001b[0;31mNameError\u001b[0m: name 'shuffle' is not defined"
     ]
    }
   ],
   "source": [
    "data = [2, 3, 4, 5, 15, 19, 26, 27, 36, 38, 44, 46, 47, 48, 50]\n",
    "shuffle(data)\n",
    "\n",
    "def quick_sort(arr):\n",
    "    pass\n",
    "\n",
    "quick_sort(data)"
   ]
  },
  {
   "cell_type": "markdown",
   "metadata": {},
   "source": [
    "<a id='quick_sort_2'></a>\n",
    "## Quick Sort 2\n",
    "https://visualgo.net/en/sorting by visualgo"
   ]
  },
  {
   "cell_type": "code",
   "execution_count": 71,
   "metadata": {},
   "outputs": [
    {
     "name": "stderr",
     "output_type": "stream",
     "text": [
      "------ Working on partition [2, 48, 36, 38, 3, 47, 19, 5, 26, 15, 27, 46, 50, 4, 44] ------\n",
      "48 > 2 - setting store index to 1(48)\n",
      "Swapping pivot 0(2) with store index -1 0(2)\n",
      "------ Working on partition [2] ------\n",
      "partition len == 1, return\n",
      "------ Working on partition [48, 36, 38, 3, 47, 19, 5, 26, 15, 27, 46, 50, 4, 44] ------\n",
      "Skipping 1(36) - store idx not set.\n",
      "Skipping 2(38) - store idx not set.\n",
      "Skipping 3(3) - store idx not set.\n",
      "Skipping 4(47) - store idx not set.\n",
      "Skipping 5(19) - store idx not set.\n",
      "Skipping 6(5) - store idx not set.\n",
      "Skipping 7(26) - store idx not set.\n",
      "Skipping 8(15) - store idx not set.\n",
      "Skipping 9(27) - store idx not set.\n",
      "Skipping 10(46) - store idx not set.\n",
      "50 > 48 - setting store index to 11(50)\n",
      "Swap idx 12(4) with store idx 11(50)\n",
      "Partition updated: [48, 36, 38, 3, 47, 19, 5, 26, 15, 27, 46, 4, 50, 44]\n",
      "Swap idx 13(44) with store idx 12(50)\n",
      "Partition updated: [48, 36, 38, 3, 47, 19, 5, 26, 15, 27, 46, 4, 44, 50]\n",
      "Swapping pivot 0(48) with store index -1 12(44)\n",
      "------ Working on partition [44, 36, 38, 3, 47, 19, 5, 26, 15, 27, 46, 4, 48] ------\n",
      "Skipping 1(36) - store idx not set.\n",
      "Skipping 2(38) - store idx not set.\n",
      "Skipping 3(3) - store idx not set.\n",
      "47 > 44 - setting store index to 4(47)\n",
      "Swap idx 5(19) with store idx 4(47)\n",
      "Partition updated: [44, 36, 38, 3, 19, 47, 5, 26, 15, 27, 46, 4, 48]\n",
      "Swap idx 6(5) with store idx 5(47)\n",
      "Partition updated: [44, 36, 38, 3, 19, 5, 47, 26, 15, 27, 46, 4, 48]\n",
      "Swap idx 7(26) with store idx 6(47)\n",
      "Partition updated: [44, 36, 38, 3, 19, 5, 26, 47, 15, 27, 46, 4, 48]\n",
      "Swap idx 8(15) with store idx 7(47)\n",
      "Partition updated: [44, 36, 38, 3, 19, 5, 26, 15, 47, 27, 46, 4, 48]\n",
      "Swap idx 9(27) with store idx 8(47)\n",
      "Partition updated: [44, 36, 38, 3, 19, 5, 26, 15, 27, 47, 46, 4, 48]\n",
      "Swap idx 11(4) with store idx 9(47)\n",
      "Partition updated: [44, 36, 38, 3, 19, 5, 26, 15, 27, 4, 46, 47, 48]\n",
      "Swapping pivot 0(44) with store index -1 9(4)\n",
      "------ Working on partition [4, 36, 38, 3, 19, 5, 26, 15, 27, 44] ------\n",
      "36 > 4 - setting store index to 1(36)\n",
      "Swap idx 3(3) with store idx 1(36)\n",
      "Partition updated: [4, 3, 38, 36, 19, 5, 26, 15, 27, 44]\n",
      "Swapping pivot 0(4) with store index -1 1(3)\n",
      "------ Working on partition [3, 4] ------\n",
      "partition len == 2, return\n",
      "------ Working on partition [38, 36, 19, 5, 26, 15, 27, 44] ------\n",
      "Skipping 1(36) - store idx not set.\n",
      "Skipping 2(19) - store idx not set.\n",
      "Skipping 3(5) - store idx not set.\n",
      "Skipping 4(26) - store idx not set.\n",
      "Skipping 5(15) - store idx not set.\n",
      "Skipping 6(27) - store idx not set.\n",
      "44 > 38 - setting store index to 7(44)\n",
      "Swapping pivot 0(38) with store index -1 6(27)\n",
      "------ Working on partition [27, 36, 19, 5, 26, 15, 38] ------\n",
      "36 > 27 - setting store index to 1(36)\n",
      "Swap idx 2(19) with store idx 1(36)\n",
      "Partition updated: [27, 19, 36, 5, 26, 15, 38]\n",
      "Swap idx 3(5) with store idx 2(36)\n",
      "Partition updated: [27, 19, 5, 36, 26, 15, 38]\n",
      "Swap idx 4(26) with store idx 3(36)\n",
      "Partition updated: [27, 19, 5, 26, 36, 15, 38]\n",
      "Swap idx 5(15) with store idx 4(36)\n",
      "Partition updated: [27, 19, 5, 26, 15, 36, 38]\n",
      "Swapping pivot 0(27) with store index -1 4(15)\n",
      "------ Working on partition [15, 19, 5, 26, 27] ------\n",
      "19 > 15 - setting store index to 1(19)\n",
      "Swap idx 2(5) with store idx 1(19)\n",
      "Partition updated: [15, 5, 19, 26, 27]\n",
      "Swapping pivot 0(15) with store index -1 1(5)\n",
      "------ Working on partition [5, 15] ------\n",
      "partition len == 2, return\n",
      "------ Working on partition [19, 26, 27] ------\n",
      "26 > 19 - setting store index to 1(26)\n",
      "Swapping pivot 0(19) with store index -1 0(19)\n",
      "------ Working on partition [19] ------\n",
      "partition len == 1, return\n",
      "------ Working on partition [26, 27] ------\n",
      "partition len == 2, return\n",
      "------ Working on partition [36, 38] ------\n",
      "partition len == 2, return\n",
      "------ Working on partition [44] ------\n",
      "partition len == 1, return\n",
      "------ Working on partition [46, 47, 48] ------\n",
      "47 > 46 - setting store index to 1(47)\n",
      "Swapping pivot 0(46) with store index -1 0(46)\n",
      "------ Working on partition [46] ------\n",
      "partition len == 1, return\n",
      "------ Working on partition [47, 48] ------\n",
      "partition len == 2, return\n",
      "------ Working on partition [50] ------\n",
      "partition len == 1, return\n"
     ]
    },
    {
     "data": {
      "text/plain": [
       "[2, 3, 4, 5, 15, 19, 26, 27, 36, 38, 44, 46, 47, 48, 50]"
      ]
     },
     "execution_count": 71,
     "metadata": {},
     "output_type": "execute_result"
    }
   ],
   "source": [
    "data = [2, 3, 4, 5, 15, 19, 26, 27, 36, 38, 44, 46, 47, 48, 50]\n",
    "shuffle(data)\n",
    "\n",
    "def quick_sort(arr):\n",
    "    logging.debug('------ Working on partition %s ------', arr)\n",
    "    \n",
    "    if len(arr) == 1:\n",
    "        logging.debug('partition len == 1, return')\n",
    "        return arr\n",
    "    elif len(arr) == 2:\n",
    "        if arr[0] > arr[1]:\n",
    "            logging.debug('Swap %s(%s) with %s(%s)', 0, arr[0], 1, arr[1])\n",
    "            arr[0], arr[1] = arr[1], arr[0]\n",
    "            \n",
    "        logging.debug('partition len == 2, return')\n",
    "        return arr\n",
    "    \n",
    "    pivot_idx = 0\n",
    "    store_idx = None\n",
    "    \n",
    "    for idx in range(1, len(arr)):\n",
    "        if arr[idx] >= arr[pivot_idx]:\n",
    "            if not store_idx:\n",
    "                logging.debug('%s > %s - setting store index to %s(%s)', arr[idx], arr[pivot_idx], idx, arr[idx])\n",
    "                store_idx = idx\n",
    "                continue\n",
    "        else:\n",
    "            if store_idx:\n",
    "                logging.debug('Swap idx %s(%s) with store idx %s(%s)', idx, arr[idx], store_idx, arr[store_idx])\n",
    "                arr[idx], arr[store_idx] = arr[store_idx], arr[idx]\n",
    "                store_idx += 1\n",
    "                logging.debug('Partition updated: %s', arr)\n",
    "            else:\n",
    "                logging.debug('Skipping %s(%s) - store idx not set.', idx, arr[idx])\n",
    "                continue\n",
    "    \n",
    "    logging.debug('Swapping pivot %s(%s) with store index -1 %s(%s)', pivot_idx, arr[pivot_idx], store_idx - 1, arr[store_idx - 1])\n",
    "    arr[pivot_idx], arr[store_idx - 1] = arr[store_idx - 1], arr[pivot_idx]\n",
    "    \n",
    "    arr[0: store_idx] = quick_sort(arr[:store_idx])\n",
    "    arr[store_idx: ] = quick_sort(arr[store_idx:])\n",
    "    \n",
    "    return arr\n",
    "    \n",
    "    \n",
    "quick_sort(data)"
   ]
  },
  {
   "cell_type": "code",
   "execution_count": null,
   "metadata": {},
   "outputs": [],
   "source": []
  },
  {
   "cell_type": "code",
   "execution_count": null,
   "metadata": {},
   "outputs": [],
   "source": []
  },
  {
   "cell_type": "code",
   "execution_count": null,
   "metadata": {},
   "outputs": [],
   "source": []
  }
 ],
 "metadata": {
  "kernelspec": {
   "display_name": "General Purpose Py37",
   "language": "python",
   "name": "general_purpose_37"
  },
  "language_info": {
   "codemirror_mode": {
    "name": "ipython",
    "version": 3
   },
   "file_extension": ".py",
   "mimetype": "text/x-python",
   "name": "python",
   "nbconvert_exporter": "python",
   "pygments_lexer": "ipython3",
   "version": "3.7.2"
  }
 },
 "nbformat": 4,
 "nbformat_minor": 2
}
