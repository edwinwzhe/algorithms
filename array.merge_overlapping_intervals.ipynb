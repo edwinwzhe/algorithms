{
 "cells": [
  {
   "cell_type": "markdown",
   "metadata": {},
   "source": [
    "### Merge Overlapping Intervals  \n",
    "\n",
    "InterviewBit: https://www.interviewbit.com/problems/merge-overlapping-intervals/"
   ]
  },
  {
   "cell_type": "markdown",
   "metadata": {},
   "source": [
    "### Approach 1 - sorted first\n",
    "\n",
    "**Algorithm**  \n",
    "The algorihm is straightforward. The list is sorted first by interval.start then interval.end. Then maintaining two pointers while looping through the list and keep merging (if overlapping) or copying (if not overlapping) to the merge_to index, the later case add 1 to merge_to index. \n",
    "\n",
    "**Time Complexity**  \n",
    "Sorting - O(NlogN)  \n",
    "Looping - O(N)  \n",
    "Total - O(NlogN)\n",
    "  \n",
    "**Space Complexity**  \n",
    "O(1) - no additional space used. Merge is done in place.\n"
   ]
  },
  {
   "cell_type": "code",
   "execution_count": 11,
   "metadata": {},
   "outputs": [],
   "source": [
    "# Definition for an interval.\n",
    "class Interval:\n",
    "    def __init__(self, s=0, e=0):\n",
    "        self.start = s\n",
    "        self.end = e\n",
    "    def __repr__(self):\n",
    "        return \"Interval(%s, %s)\" % (self.start, self.end)\n",
    "\n",
    "class Solution:\n",
    "    # @param intervals, a list of Intervals\n",
    "    # @return a list of Interval\n",
    "    def merge(self, intervals):\n",
    "        intervals.sort(key=lambda x:(x.start, x.end))  # O(NlogN)\n",
    "        \n",
    "        merge_from_idx = 1\n",
    "        merge_to_idx = 0\n",
    "        \n",
    "        while merge_from_idx < len(intervals):\n",
    "            merge_to = intervals[merge_to_idx]\n",
    "            merge_from = intervals[merge_from_idx]\n",
    "            \n",
    "            if merge_to.end < merge_from.start:\n",
    "                # disjoined\n",
    "                if merge_from_idx > merge_to_idx + 1:\n",
    "                    # copy interval \n",
    "                    intervals[merge_to_idx + 1] = intervals[merge_from_idx]\n",
    "                    \n",
    "                merge_to_idx += 1\n",
    "            elif merge_from.start <= merge_to.end:\n",
    "                if merge_from.end > merge_to.end:\n",
    "                    # extend end\n",
    "                    merge_to.end = merge_from.end\n",
    "                #else - inclusive - no-op\n",
    "            else:\n",
    "                assert False\n",
    "                \n",
    "            merge_from_idx += 1\n",
    "        \n",
    "        return intervals[:merge_to_idx + 1]\n",
    "                "
   ]
  },
  {
   "cell_type": "code",
   "execution_count": 12,
   "metadata": {},
   "outputs": [
    {
     "data": {
      "text/plain": [
       "[Interval(1, 10)]"
      ]
     },
     "execution_count": 12,
     "metadata": {},
     "output_type": "execute_result"
    }
   ],
   "source": [
    "# [ (1, 10), (2, 9), (3, 8), (4, 7), (5, 6), (6, 6) ]\n",
    "Solution().merge([Interval(1, 10), Interval(2, 9), Interval(3, 8), Interval(4, 7), Interval(5, 6), Interval(6, 6)])"
   ]
  },
  {
   "cell_type": "code",
   "execution_count": null,
   "metadata": {},
   "outputs": [],
   "source": []
  },
  {
   "cell_type": "code",
   "execution_count": null,
   "metadata": {},
   "outputs": [],
   "source": []
  }
 ],
 "metadata": {
  "kernelspec": {
   "display_name": "Python 3",
   "language": "python",
   "name": "python3"
  },
  "language_info": {
   "codemirror_mode": {
    "name": "ipython",
    "version": 3
   },
   "file_extension": ".py",
   "mimetype": "text/x-python",
   "name": "python",
   "nbconvert_exporter": "python",
   "pygments_lexer": "ipython3",
   "version": "3.6.5"
  }
 },
 "nbformat": 4,
 "nbformat_minor": 2
}
